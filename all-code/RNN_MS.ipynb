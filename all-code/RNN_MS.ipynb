{
  "cells": [
    {
      "cell_type": "code",
      "execution_count": null,
      "metadata": {
        "id": "tT3oRvEFUtYK"
      },
      "outputs": [],
      "source": [
        "# Author: @SpencerAndTheMatt\n",
        "# Energy prediction 3 (ASHRAE)\n",
        "# Imports/Formatting\n",
        "%matplotlib inline\n",
        "\n",
        "import pandas as pd\n",
        "import numpy as np\n",
        "import matplotlib.pyplot as plt\n",
        "\n",
        "from sklearn import utils\n",
        "from sklearn.model_selection import train_test_split\n",
        "from sklearn.metrics import mean_squared_error\n",
        "from sklearn.model_selection import cross_val_score\n",
        "from tensorflow import keras\n",
        "\n",
        "\n",
        "import warnings\n",
        "warnings.filterwarnings('ignore')\n"
      ]
    },
    {
      "cell_type": "code",
      "execution_count": null,
      "metadata": {
        "colab": {
          "base_uri": "https://localhost:8080/",
          "height": 53
        },
        "id": "O8SKES0Aasbf",
        "outputId": "b7d1aa90-86cf-4889-ddb2-fc33048ef0ea"
      },
      "outputs": [
        {
          "data": {
            "application/vnd.google.colaboratory.intrinsic+json": {
              "type": "string"
            },
            "text/plain": [
              "'\\nREADME\\nWith getting processed data, this programme reads in as feather, and then converts\\nit to CSV. Google colab RAM cannot handle reading them both in as CSV.\\n'"
            ]
          },
          "execution_count": 3,
          "metadata": {},
          "output_type": "execute_result"
        }
      ],
      "source": [
        "'''\n",
        "README\n",
        "With getting processed data, this programme reads in as feather, and then converts\n",
        "it to CSV. Google colab RAM cannot handle reading them both in as CSV.\n",
        "'''"
      ]
    },
    {
      "cell_type": "code",
      "execution_count": null,
      "metadata": {
        "colab": {
          "base_uri": "https://localhost:8080/"
        },
        "id": "vqW0zlmqU3Kt",
        "outputId": "31fc44a0-9b85-4e12-8f1f-b551504f4ff4"
      },
      "outputs": [
        {
          "name": "stdout",
          "output_type": "stream",
          "text": [
            "Mounted at /content/drive\n"
          ]
        }
      ],
      "source": [
        "# Get PROCESSED train data from drive \n",
        "from google.colab import drive\n",
        "drive.mount('/content/drive', force_remount = True)\n",
        "train_data = pd.read_feather('/content/drive/My Drive/training_data_processed_feather.feather')"
      ]
    },
    {
      "cell_type": "code",
      "execution_count": null,
      "metadata": {
        "id": "x9ZAD76jU6Hs"
      },
      "outputs": [],
      "source": [
        "# Get PROCESSED test data from drive\n",
        "test_data = pd.read_feather('/content/drive/My Drive/testing_data_processed_feather.feather')"
      ]
    },
    {
      "cell_type": "code",
      "execution_count": null,
      "metadata": {
        "id": "wBf2VCYoX3u_"
      },
      "outputs": [],
      "source": [
        "# Convert training data back to CSV file\n",
        "train_data.to_csv('train_data', index = False)"
      ]
    },
    {
      "cell_type": "code",
      "execution_count": null,
      "metadata": {
        "id": "DO47A-NRZnKP"
      },
      "outputs": [],
      "source": [
        "# Convert testing data back to CSV file\n",
        "test_data.to_csv('test_data', index = False)"
      ]
    },
    {
      "cell_type": "code",
      "execution_count": null,
      "metadata": {
        "colab": {
          "base_uri": "https://localhost:8080/"
        },
        "id": "1zv31UIyYv5e",
        "outputId": "04e2ab10-c78f-4a69-e017-7a0e5259dd0c"
      },
      "outputs": [
        {
          "name": "stdout",
          "output_type": "stream",
          "text": [
            "Type of train_data:  <class 'pandas.core.frame.DataFrame'>\n",
            "Type of test_data:  <class 'pandas.core.frame.DataFrame'>\n"
          ]
        }
      ],
      "source": [
        "# Check type\n",
        "print('Type of train_data: ', type(train_data))\n",
        "print('Type of test_data: ', type(test_data))"
      ]
    },
    {
      "cell_type": "code",
      "execution_count": null,
      "metadata": {
        "id": "2GACBb_qaj-v"
      },
      "outputs": [],
      "source": [
        "# Drop index columns\n",
        "train_data = train_data.drop('index', axis = 1, errors = 'ignore')\n",
        "test_data = test_data.drop('index', axis = 1, errors = 'ignore')"
      ]
    },
    {
      "cell_type": "code",
      "execution_count": null,
      "metadata": {
        "colab": {
          "base_uri": "https://localhost:8080/",
          "height": 270
        },
        "id": "V7oOvF9ia5_4",
        "outputId": "2a6874f5-8184-4f78-e6f1-d487396f51df"
      },
      "outputs": [
        {
          "data": {
            "text/html": [
              "\n",
              "  <div id=\"df-71cbe81a-ebdf-4d08-872c-aa02482db681\">\n",
              "    <div class=\"colab-df-container\">\n",
              "      <div>\n",
              "<style scoped>\n",
              "    .dataframe tbody tr th:only-of-type {\n",
              "        vertical-align: middle;\n",
              "    }\n",
              "\n",
              "    .dataframe tbody tr th {\n",
              "        vertical-align: top;\n",
              "    }\n",
              "\n",
              "    .dataframe thead th {\n",
              "        text-align: right;\n",
              "    }\n",
              "</style>\n",
              "<table border=\"1\" class=\"dataframe\">\n",
              "  <thead>\n",
              "    <tr style=\"text-align: right;\">\n",
              "      <th></th>\n",
              "      <th>building_id</th>\n",
              "      <th>square_feet</th>\n",
              "      <th>primary_use</th>\n",
              "      <th>meter</th>\n",
              "      <th>air_temperature</th>\n",
              "      <th>day_of_year</th>\n",
              "      <th>hour</th>\n",
              "      <th>isDayTime</th>\n",
              "      <th>day_of_week</th>\n",
              "      <th>meter_reading</th>\n",
              "    </tr>\n",
              "  </thead>\n",
              "  <tbody>\n",
              "    <tr>\n",
              "      <th>0</th>\n",
              "      <td>46</td>\n",
              "      <td>9.109375</td>\n",
              "      <td>11</td>\n",
              "      <td>0</td>\n",
              "      <td>25.000000</td>\n",
              "      <td>1.0</td>\n",
              "      <td>0.0</td>\n",
              "      <td>0</td>\n",
              "      <td>4.0</td>\n",
              "      <td>3.994141</td>\n",
              "    </tr>\n",
              "    <tr>\n",
              "      <th>1</th>\n",
              "      <td>74</td>\n",
              "      <td>12.867188</td>\n",
              "      <td>8</td>\n",
              "      <td>0</td>\n",
              "      <td>25.000000</td>\n",
              "      <td>1.0</td>\n",
              "      <td>0.0</td>\n",
              "      <td>0</td>\n",
              "      <td>4.0</td>\n",
              "      <td>3.785156</td>\n",
              "    </tr>\n",
              "    <tr>\n",
              "      <th>2</th>\n",
              "      <td>93</td>\n",
              "      <td>10.414062</td>\n",
              "      <td>6</td>\n",
              "      <td>0</td>\n",
              "      <td>25.000000</td>\n",
              "      <td>1.0</td>\n",
              "      <td>0.0</td>\n",
              "      <td>0</td>\n",
              "      <td>4.0</td>\n",
              "      <td>3.978516</td>\n",
              "    </tr>\n",
              "    <tr>\n",
              "      <th>3</th>\n",
              "      <td>105</td>\n",
              "      <td>10.835938</td>\n",
              "      <td>0</td>\n",
              "      <td>0</td>\n",
              "      <td>3.800781</td>\n",
              "      <td>1.0</td>\n",
              "      <td>0.0</td>\n",
              "      <td>0</td>\n",
              "      <td>4.0</td>\n",
              "      <td>3.191406</td>\n",
              "    </tr>\n",
              "    <tr>\n",
              "      <th>4</th>\n",
              "      <td>106</td>\n",
              "      <td>8.585938</td>\n",
              "      <td>0</td>\n",
              "      <td>0</td>\n",
              "      <td>3.800781</td>\n",
              "      <td>1.0</td>\n",
              "      <td>0.0</td>\n",
              "      <td>0</td>\n",
              "      <td>4.0</td>\n",
              "      <td>0.318115</td>\n",
              "    </tr>\n",
              "  </tbody>\n",
              "</table>\n",
              "</div>\n",
              "      <button class=\"colab-df-convert\" onclick=\"convertToInteractive('df-71cbe81a-ebdf-4d08-872c-aa02482db681')\"\n",
              "              title=\"Convert this dataframe to an interactive table.\"\n",
              "              style=\"display:none;\">\n",
              "        \n",
              "  <svg xmlns=\"http://www.w3.org/2000/svg\" height=\"24px\"viewBox=\"0 0 24 24\"\n",
              "       width=\"24px\">\n",
              "    <path d=\"M0 0h24v24H0V0z\" fill=\"none\"/>\n",
              "    <path d=\"M18.56 5.44l.94 2.06.94-2.06 2.06-.94-2.06-.94-.94-2.06-.94 2.06-2.06.94zm-11 1L8.5 8.5l.94-2.06 2.06-.94-2.06-.94L8.5 2.5l-.94 2.06-2.06.94zm10 10l.94 2.06.94-2.06 2.06-.94-2.06-.94-.94-2.06-.94 2.06-2.06.94z\"/><path d=\"M17.41 7.96l-1.37-1.37c-.4-.4-.92-.59-1.43-.59-.52 0-1.04.2-1.43.59L10.3 9.45l-7.72 7.72c-.78.78-.78 2.05 0 2.83L4 21.41c.39.39.9.59 1.41.59.51 0 1.02-.2 1.41-.59l7.78-7.78 2.81-2.81c.8-.78.8-2.07 0-2.86zM5.41 20L4 18.59l7.72-7.72 1.47 1.35L5.41 20z\"/>\n",
              "  </svg>\n",
              "      </button>\n",
              "      \n",
              "  <style>\n",
              "    .colab-df-container {\n",
              "      display:flex;\n",
              "      flex-wrap:wrap;\n",
              "      gap: 12px;\n",
              "    }\n",
              "\n",
              "    .colab-df-convert {\n",
              "      background-color: #E8F0FE;\n",
              "      border: none;\n",
              "      border-radius: 50%;\n",
              "      cursor: pointer;\n",
              "      display: none;\n",
              "      fill: #1967D2;\n",
              "      height: 32px;\n",
              "      padding: 0 0 0 0;\n",
              "      width: 32px;\n",
              "    }\n",
              "\n",
              "    .colab-df-convert:hover {\n",
              "      background-color: #E2EBFA;\n",
              "      box-shadow: 0px 1px 2px rgba(60, 64, 67, 0.3), 0px 1px 3px 1px rgba(60, 64, 67, 0.15);\n",
              "      fill: #174EA6;\n",
              "    }\n",
              "\n",
              "    [theme=dark] .colab-df-convert {\n",
              "      background-color: #3B4455;\n",
              "      fill: #D2E3FC;\n",
              "    }\n",
              "\n",
              "    [theme=dark] .colab-df-convert:hover {\n",
              "      background-color: #434B5C;\n",
              "      box-shadow: 0px 1px 3px 1px rgba(0, 0, 0, 0.15);\n",
              "      filter: drop-shadow(0px 1px 2px rgba(0, 0, 0, 0.3));\n",
              "      fill: #FFFFFF;\n",
              "    }\n",
              "  </style>\n",
              "\n",
              "      <script>\n",
              "        const buttonEl =\n",
              "          document.querySelector('#df-71cbe81a-ebdf-4d08-872c-aa02482db681 button.colab-df-convert');\n",
              "        buttonEl.style.display =\n",
              "          google.colab.kernel.accessAllowed ? 'block' : 'none';\n",
              "\n",
              "        async function convertToInteractive(key) {\n",
              "          const element = document.querySelector('#df-71cbe81a-ebdf-4d08-872c-aa02482db681');\n",
              "          const dataTable =\n",
              "            await google.colab.kernel.invokeFunction('convertToInteractive',\n",
              "                                                     [key], {});\n",
              "          if (!dataTable) return;\n",
              "\n",
              "          const docLinkHtml = 'Like what you see? Visit the ' +\n",
              "            '<a target=\"_blank\" href=https://colab.research.google.com/notebooks/data_table.ipynb>data table notebook</a>'\n",
              "            + ' to learn more about interactive tables.';\n",
              "          element.innerHTML = '';\n",
              "          dataTable['output_type'] = 'display_data';\n",
              "          await google.colab.output.renderOutput(dataTable, element);\n",
              "          const docLink = document.createElement('div');\n",
              "          docLink.innerHTML = docLinkHtml;\n",
              "          element.appendChild(docLink);\n",
              "        }\n",
              "      </script>\n",
              "    </div>\n",
              "  </div>\n",
              "  "
            ],
            "text/plain": [
              "   building_id  square_feet  primary_use  meter  air_temperature  day_of_year  \\\n",
              "0           46     9.109375           11      0        25.000000          1.0   \n",
              "1           74    12.867188            8      0        25.000000          1.0   \n",
              "2           93    10.414062            6      0        25.000000          1.0   \n",
              "3          105    10.835938            0      0         3.800781          1.0   \n",
              "4          106     8.585938            0      0         3.800781          1.0   \n",
              "\n",
              "   hour  isDayTime  day_of_week  meter_reading  \n",
              "0   0.0          0          4.0       3.994141  \n",
              "1   0.0          0          4.0       3.785156  \n",
              "2   0.0          0          4.0       3.978516  \n",
              "3   0.0          0          4.0       3.191406  \n",
              "4   0.0          0          4.0       0.318115  "
            ]
          },
          "execution_count": 10,
          "metadata": {},
          "output_type": "execute_result"
        }
      ],
      "source": [
        "# Inspect train_data\n",
        "train_data.head()"
      ]
    },
    {
      "cell_type": "code",
      "execution_count": null,
      "metadata": {
        "colab": {
          "base_uri": "https://localhost:8080/",
          "height": 270
        },
        "id": "51y8W4nla7rf",
        "outputId": "c2d152c6-dc21-4a68-c45c-c4cb8bd6441a"
      },
      "outputs": [
        {
          "data": {
            "text/html": [
              "\n",
              "  <div id=\"df-7f265231-ca92-4e6e-812f-1237dfb332d1\">\n",
              "    <div class=\"colab-df-container\">\n",
              "      <div>\n",
              "<style scoped>\n",
              "    .dataframe tbody tr th:only-of-type {\n",
              "        vertical-align: middle;\n",
              "    }\n",
              "\n",
              "    .dataframe tbody tr th {\n",
              "        vertical-align: top;\n",
              "    }\n",
              "\n",
              "    .dataframe thead th {\n",
              "        text-align: right;\n",
              "    }\n",
              "</style>\n",
              "<table border=\"1\" class=\"dataframe\">\n",
              "  <thead>\n",
              "    <tr style=\"text-align: right;\">\n",
              "      <th></th>\n",
              "      <th>building_id</th>\n",
              "      <th>square_feet</th>\n",
              "      <th>primary_use</th>\n",
              "      <th>meter</th>\n",
              "      <th>air_temperature</th>\n",
              "      <th>day_of_year</th>\n",
              "      <th>hour</th>\n",
              "      <th>isDayTime</th>\n",
              "      <th>day_of_week</th>\n",
              "    </tr>\n",
              "  </thead>\n",
              "  <tbody>\n",
              "    <tr>\n",
              "      <th>0</th>\n",
              "      <td>0</td>\n",
              "      <td>8.914062</td>\n",
              "      <td>0</td>\n",
              "      <td>0</td>\n",
              "      <td>17.796875</td>\n",
              "      <td>1.0</td>\n",
              "      <td>0.0</td>\n",
              "      <td>0</td>\n",
              "      <td>6.0</td>\n",
              "    </tr>\n",
              "    <tr>\n",
              "      <th>1</th>\n",
              "      <td>1</td>\n",
              "      <td>7.910156</td>\n",
              "      <td>0</td>\n",
              "      <td>0</td>\n",
              "      <td>17.796875</td>\n",
              "      <td>1.0</td>\n",
              "      <td>0.0</td>\n",
              "      <td>0</td>\n",
              "      <td>6.0</td>\n",
              "    </tr>\n",
              "    <tr>\n",
              "      <th>2</th>\n",
              "      <td>2</td>\n",
              "      <td>8.593750</td>\n",
              "      <td>0</td>\n",
              "      <td>0</td>\n",
              "      <td>17.796875</td>\n",
              "      <td>1.0</td>\n",
              "      <td>0.0</td>\n",
              "      <td>0</td>\n",
              "      <td>6.0</td>\n",
              "    </tr>\n",
              "    <tr>\n",
              "      <th>3</th>\n",
              "      <td>3</td>\n",
              "      <td>10.070312</td>\n",
              "      <td>0</td>\n",
              "      <td>0</td>\n",
              "      <td>17.796875</td>\n",
              "      <td>1.0</td>\n",
              "      <td>0.0</td>\n",
              "      <td>0</td>\n",
              "      <td>6.0</td>\n",
              "    </tr>\n",
              "    <tr>\n",
              "      <th>4</th>\n",
              "      <td>4</td>\n",
              "      <td>11.664062</td>\n",
              "      <td>0</td>\n",
              "      <td>0</td>\n",
              "      <td>17.796875</td>\n",
              "      <td>1.0</td>\n",
              "      <td>0.0</td>\n",
              "      <td>0</td>\n",
              "      <td>6.0</td>\n",
              "    </tr>\n",
              "  </tbody>\n",
              "</table>\n",
              "</div>\n",
              "      <button class=\"colab-df-convert\" onclick=\"convertToInteractive('df-7f265231-ca92-4e6e-812f-1237dfb332d1')\"\n",
              "              title=\"Convert this dataframe to an interactive table.\"\n",
              "              style=\"display:none;\">\n",
              "        \n",
              "  <svg xmlns=\"http://www.w3.org/2000/svg\" height=\"24px\"viewBox=\"0 0 24 24\"\n",
              "       width=\"24px\">\n",
              "    <path d=\"M0 0h24v24H0V0z\" fill=\"none\"/>\n",
              "    <path d=\"M18.56 5.44l.94 2.06.94-2.06 2.06-.94-2.06-.94-.94-2.06-.94 2.06-2.06.94zm-11 1L8.5 8.5l.94-2.06 2.06-.94-2.06-.94L8.5 2.5l-.94 2.06-2.06.94zm10 10l.94 2.06.94-2.06 2.06-.94-2.06-.94-.94-2.06-.94 2.06-2.06.94z\"/><path d=\"M17.41 7.96l-1.37-1.37c-.4-.4-.92-.59-1.43-.59-.52 0-1.04.2-1.43.59L10.3 9.45l-7.72 7.72c-.78.78-.78 2.05 0 2.83L4 21.41c.39.39.9.59 1.41.59.51 0 1.02-.2 1.41-.59l7.78-7.78 2.81-2.81c.8-.78.8-2.07 0-2.86zM5.41 20L4 18.59l7.72-7.72 1.47 1.35L5.41 20z\"/>\n",
              "  </svg>\n",
              "      </button>\n",
              "      \n",
              "  <style>\n",
              "    .colab-df-container {\n",
              "      display:flex;\n",
              "      flex-wrap:wrap;\n",
              "      gap: 12px;\n",
              "    }\n",
              "\n",
              "    .colab-df-convert {\n",
              "      background-color: #E8F0FE;\n",
              "      border: none;\n",
              "      border-radius: 50%;\n",
              "      cursor: pointer;\n",
              "      display: none;\n",
              "      fill: #1967D2;\n",
              "      height: 32px;\n",
              "      padding: 0 0 0 0;\n",
              "      width: 32px;\n",
              "    }\n",
              "\n",
              "    .colab-df-convert:hover {\n",
              "      background-color: #E2EBFA;\n",
              "      box-shadow: 0px 1px 2px rgba(60, 64, 67, 0.3), 0px 1px 3px 1px rgba(60, 64, 67, 0.15);\n",
              "      fill: #174EA6;\n",
              "    }\n",
              "\n",
              "    [theme=dark] .colab-df-convert {\n",
              "      background-color: #3B4455;\n",
              "      fill: #D2E3FC;\n",
              "    }\n",
              "\n",
              "    [theme=dark] .colab-df-convert:hover {\n",
              "      background-color: #434B5C;\n",
              "      box-shadow: 0px 1px 3px 1px rgba(0, 0, 0, 0.15);\n",
              "      filter: drop-shadow(0px 1px 2px rgba(0, 0, 0, 0.3));\n",
              "      fill: #FFFFFF;\n",
              "    }\n",
              "  </style>\n",
              "\n",
              "      <script>\n",
              "        const buttonEl =\n",
              "          document.querySelector('#df-7f265231-ca92-4e6e-812f-1237dfb332d1 button.colab-df-convert');\n",
              "        buttonEl.style.display =\n",
              "          google.colab.kernel.accessAllowed ? 'block' : 'none';\n",
              "\n",
              "        async function convertToInteractive(key) {\n",
              "          const element = document.querySelector('#df-7f265231-ca92-4e6e-812f-1237dfb332d1');\n",
              "          const dataTable =\n",
              "            await google.colab.kernel.invokeFunction('convertToInteractive',\n",
              "                                                     [key], {});\n",
              "          if (!dataTable) return;\n",
              "\n",
              "          const docLinkHtml = 'Like what you see? Visit the ' +\n",
              "            '<a target=\"_blank\" href=https://colab.research.google.com/notebooks/data_table.ipynb>data table notebook</a>'\n",
              "            + ' to learn more about interactive tables.';\n",
              "          element.innerHTML = '';\n",
              "          dataTable['output_type'] = 'display_data';\n",
              "          await google.colab.output.renderOutput(dataTable, element);\n",
              "          const docLink = document.createElement('div');\n",
              "          docLink.innerHTML = docLinkHtml;\n",
              "          element.appendChild(docLink);\n",
              "        }\n",
              "      </script>\n",
              "    </div>\n",
              "  </div>\n",
              "  "
            ],
            "text/plain": [
              "   building_id  square_feet  primary_use  meter  air_temperature  day_of_year  \\\n",
              "0            0     8.914062            0      0        17.796875          1.0   \n",
              "1            1     7.910156            0      0        17.796875          1.0   \n",
              "2            2     8.593750            0      0        17.796875          1.0   \n",
              "3            3    10.070312            0      0        17.796875          1.0   \n",
              "4            4    11.664062            0      0        17.796875          1.0   \n",
              "\n",
              "   hour  isDayTime  day_of_week  \n",
              "0   0.0          0          6.0  \n",
              "1   0.0          0          6.0  \n",
              "2   0.0          0          6.0  \n",
              "3   0.0          0          6.0  \n",
              "4   0.0          0          6.0  "
            ]
          },
          "execution_count": 11,
          "metadata": {},
          "output_type": "execute_result"
        }
      ],
      "source": [
        "# Inspect test_data\n",
        "test_data.head()"
      ]
    },
    {
      "cell_type": "code",
      "execution_count": null,
      "metadata": {
        "colab": {
          "base_uri": "https://localhost:8080/",
          "height": 53
        },
        "id": "iyt_1Xg7cg1X",
        "outputId": "810bc92a-25b6-430d-f3d3-9dd03600d210"
      },
      "outputs": [
        {
          "data": {
            "application/vnd.google.colaboratory.intrinsic+json": {
              "type": "string"
            },
            "text/plain": [
              "'\\n--------------------------------------------------------------------------------\\nIMPLEMENTATION\\n'"
            ]
          },
          "execution_count": 12,
          "metadata": {},
          "output_type": "execute_result"
        }
      ],
      "source": [
        "'''\n",
        "--------------------------------------------------------------------------------\n",
        "IMPLEMENTATION\n",
        "'''"
      ]
    },
    {
      "cell_type": "code",
      "execution_count": null,
      "metadata": {
        "id": "KVLutpqjcuoo"
      },
      "outputs": [],
      "source": [
        "# Get X_train and y_train\n",
        "X_train = train_data.drop('meter_reading', axis = 1)\n",
        "y_train = train_data['meter_reading'].values"
      ]
    },
    {
      "cell_type": "code",
      "execution_count": null,
      "metadata": {
        "id": "kg6RBUbBdfkb"
      },
      "outputs": [],
      "source": [
        " # Split data for test and train\n",
        "train_x, test_x, train_y, test_y = train_test_split(X_train, y_train, test_size = 0.2, random_state = 42)"
      ]
    },
    {
      "cell_type": "code",
      "execution_count": null,
      "metadata": {
        "id": "kBX5P0Phedaw"
      },
      "outputs": [],
      "source": [
        "# Define RMSLE specifically for neural network\n",
        "from keras import backend as k\n",
        "def NN_RMSLE(y_act, y_pred):\n",
        "  return k.sqrt(k.mean(k.square(y_pred - y_act)))"
      ]
    },
    {
      "cell_type": "code",
      "execution_count": null,
      "metadata": {
        "id": "vV-tpC9pfegY"
      },
      "outputs": [],
      "source": [
        "# Split into train and validation sets\n",
        "train_xx, val_xx, train_yy, val_yy = train_test_split(train_x, train_y, test_size = 0.2, random_state = 42)"
      ]
    },
    {
      "cell_type": "code",
      "execution_count": null,
      "metadata": {
        "colab": {
          "base_uri": "https://localhost:8080/"
        },
        "id": "RYmbYNuvfonA",
        "outputId": "c52f79c8-c79e-4bbc-e566-de6c11cf6078"
      },
      "outputs": [
        {
          "name": "stdout",
          "output_type": "stream",
          "text": [
            "Epoch 1/50\n",
            "5732/5732 [==============================] - 58s 10ms/step - loss: 1.5687 - val_loss: 1.5688\n",
            "Epoch 2/50\n",
            "5732/5732 [==============================] - 52s 9ms/step - loss: 1.4099 - val_loss: 1.3390\n",
            "Epoch 3/50\n",
            "5732/5732 [==============================] - 52s 9ms/step - loss: 1.3438 - val_loss: 1.3339\n",
            "Epoch 4/50\n",
            "5732/5732 [==============================] - 53s 9ms/step - loss: 1.3054 - val_loss: 1.1767\n",
            "Epoch 5/50\n",
            "5732/5732 [==============================] - 54s 9ms/step - loss: 1.2737 - val_loss: 1.3266\n",
            "Epoch 6/50\n",
            "5732/5732 [==============================] - 53s 9ms/step - loss: 1.2493 - val_loss: 1.2554\n",
            "Epoch 7/50\n",
            "5732/5732 [==============================] - 51s 9ms/step - loss: 1.2292 - val_loss: 1.3547\n",
            "Epoch 8/50\n",
            "5732/5732 [==============================] - 55s 10ms/step - loss: 1.2124 - val_loss: 1.1411\n",
            "Epoch 9/50\n",
            "5732/5732 [==============================] - 53s 9ms/step - loss: 1.1993 - val_loss: 1.1750\n",
            "Epoch 10/50\n",
            "5732/5732 [==============================] - 53s 9ms/step - loss: 1.1887 - val_loss: 1.2800\n",
            "Epoch 11/50\n",
            "5732/5732 [==============================] - 54s 9ms/step - loss: 1.1788 - val_loss: 1.1281\n",
            "Epoch 12/50\n",
            "5732/5732 [==============================] - 55s 10ms/step - loss: 1.1694 - val_loss: 1.2257\n",
            "Epoch 13/50\n",
            "5732/5732 [==============================] - 53s 9ms/step - loss: 1.1608 - val_loss: 1.1378\n",
            "Epoch 14/50\n",
            "5732/5732 [==============================] - 54s 10ms/step - loss: 1.1551 - val_loss: 1.1233\n",
            "Epoch 15/50\n",
            "5732/5732 [==============================] - 54s 9ms/step - loss: 1.1489 - val_loss: 1.1363\n",
            "Epoch 16/50\n",
            "5732/5732 [==============================] - 54s 9ms/step - loss: 1.1463 - val_loss: 1.1218\n",
            "Epoch 17/50\n",
            "5732/5732 [==============================] - 54s 9ms/step - loss: 1.1407 - val_loss: 1.1327\n",
            "Epoch 18/50\n",
            "5732/5732 [==============================] - 54s 9ms/step - loss: 1.1379 - val_loss: 1.1760\n",
            "Epoch 19/50\n",
            "5732/5732 [==============================] - 57s 10ms/step - loss: 1.1350 - val_loss: 1.1234\n",
            "Epoch 20/50\n",
            "5732/5732 [==============================] - 55s 10ms/step - loss: 1.1313 - val_loss: 1.1740\n",
            "Epoch 21/50\n",
            "5732/5732 [==============================] - 56s 10ms/step - loss: 1.1282 - val_loss: 1.1448\n",
            "Epoch 22/50\n",
            "5732/5732 [==============================] - 55s 10ms/step - loss: 1.1252 - val_loss: 1.1252\n",
            "Epoch 23/50\n",
            "5732/5732 [==============================] - 55s 10ms/step - loss: 1.1222 - val_loss: 1.1043\n",
            "Epoch 24/50\n",
            "5732/5732 [==============================] - 58s 10ms/step - loss: 1.1190 - val_loss: 1.1516\n",
            "Epoch 25/50\n",
            "5732/5732 [==============================] - 62s 11ms/step - loss: 1.1154 - val_loss: 1.1049\n",
            "Epoch 26/50\n",
            "5732/5732 [==============================] - 62s 11ms/step - loss: 1.1133 - val_loss: 1.1179\n",
            "Epoch 27/50\n",
            "5732/5732 [==============================] - 63s 11ms/step - loss: 1.1116 - val_loss: 1.1308\n",
            "Epoch 28/50\n",
            "5732/5732 [==============================] - 59s 10ms/step - loss: 1.1094 - val_loss: 1.1266\n",
            "Epoch 29/50\n",
            "5732/5732 [==============================] - 59s 10ms/step - loss: 1.1082 - val_loss: 1.0936\n",
            "Epoch 30/50\n",
            "5732/5732 [==============================] - 62s 11ms/step - loss: 1.1064 - val_loss: 1.0935\n",
            "Epoch 31/50\n",
            "5732/5732 [==============================] - 64s 11ms/step - loss: 1.1044 - val_loss: 1.1077\n",
            "Epoch 32/50\n",
            "5732/5732 [==============================] - 62s 11ms/step - loss: 1.1034 - val_loss: 1.1194\n",
            "Epoch 33/50\n",
            "5732/5732 [==============================] - 61s 11ms/step - loss: 1.1018 - val_loss: 1.0925\n",
            "Epoch 34/50\n",
            "5732/5732 [==============================] - 59s 10ms/step - loss: 1.1005 - val_loss: 1.1435\n",
            "Epoch 35/50\n",
            "5732/5732 [==============================] - 60s 11ms/step - loss: 1.0989 - val_loss: 1.1026\n",
            "Epoch 36/50\n",
            "5732/5732 [==============================] - 60s 10ms/step - loss: 1.0979 - val_loss: 1.0998\n",
            "Epoch 37/50\n",
            "5732/5732 [==============================] - 61s 11ms/step - loss: 1.0968 - val_loss: 1.1057\n",
            "Epoch 38/50\n",
            "5732/5732 [==============================] - 61s 11ms/step - loss: 1.0958 - val_loss: 1.0836\n",
            "Epoch 39/50\n",
            "5732/5732 [==============================] - 63s 11ms/step - loss: 1.0945 - val_loss: 1.0897\n",
            "Epoch 40/50\n",
            "5732/5732 [==============================] - 62s 11ms/step - loss: 1.0932 - val_loss: 1.0939\n",
            "Epoch 41/50\n",
            "5732/5732 [==============================] - 61s 11ms/step - loss: 1.0921 - val_loss: 1.0849\n",
            "Epoch 42/50\n",
            "5732/5732 [==============================] - 61s 11ms/step - loss: 1.0911 - val_loss: 1.0896\n",
            "Epoch 43/50\n",
            "5732/5732 [==============================] - 60s 10ms/step - loss: 1.0910 - val_loss: 1.0925\n",
            "Epoch 44/50\n",
            "5732/5732 [==============================] - 59s 10ms/step - loss: 1.0899 - val_loss: 1.0781\n",
            "Epoch 45/50\n",
            "5732/5732 [==============================] - 61s 11ms/step - loss: 1.0890 - val_loss: 1.0868\n",
            "Epoch 46/50\n",
            "5732/5732 [==============================] - 60s 11ms/step - loss: 1.0876 - val_loss: 1.0827\n",
            "Epoch 47/50\n",
            "5732/5732 [==============================] - 61s 11ms/step - loss: 1.0877 - val_loss: 1.0844\n",
            "Epoch 48/50\n",
            "5732/5732 [==============================] - 62s 11ms/step - loss: 1.0869 - val_loss: 1.0835\n",
            "Epoch 49/50\n",
            "5732/5732 [==============================] - 57s 10ms/step - loss: 1.0865 - val_loss: 1.0925\n",
            "Epoch 50/50\n",
            "5732/5732 [==============================] - 56s 10ms/step - loss: 1.0854 - val_loss: 1.0942\n"
          ]
        },
        {
          "data": {
            "text/plain": [
              "<keras.callbacks.History at 0x7f1a53487a90>"
            ]
          },
          "execution_count": 37,
          "metadata": {},
          "output_type": "execute_result"
        }
      ],
      "source": [
        "# Define model\n",
        "from keras.models import Sequential\n",
        "from keras import layers\n",
        "from keras.layers import Dense\n",
        "from keras.layers import LSTM\n",
        "from keras.layers import Dropout\n",
        "\n",
        "model = Sequential()\n",
        "\n",
        "# Add layers, etc\n",
        "model.add(layers.Dense(512, activation = 'relu', input_shape = (train_xx.shape[1], )))\n",
        "model.add(Dense(1, activation = 'linear'))\n",
        "model.compile(optimizer = 'adam', loss = NN_RMSLE)\n",
        "\n",
        "# Fit model\n",
        "model.fit(train_xx, train_yy, epochs = 50, batch_size = 2048, validation_data = (val_xx, val_yy))"
      ]
    },
    {
      "cell_type": "code",
      "execution_count": null,
      "metadata": {
        "id": "spax8bwjlTFp"
      },
      "outputs": [],
      "source": [
        "# Use model to make a prediction \n",
        "prediction = model.predict(test_data)"
      ]
    },
    {
      "cell_type": "code",
      "execution_count": null,
      "metadata": {
        "id": "ihbXW9nXqMgL"
      },
      "outputs": [],
      "source": [
        "# Show prediction\n",
        "prediction"
      ]
    },
    {
      "cell_type": "code",
      "execution_count": null,
      "metadata": {
        "id": "m8f8TRtMqUny"
      },
      "outputs": [],
      "source": [
        "# Inspect and flatten prediction\n",
        "prediction_flat = prediction.flatten()\n",
        "len(prediction_flat)"
      ]
    },
    {
      "cell_type": "code",
      "execution_count": null,
      "metadata": {
        "id": "zwg_uhztF_K7"
      },
      "outputs": [],
      "source": [
        "# Create row_id column for Kaggle submission\n",
        "row_id = (np.arange(0, len(prediction_flat))).astype(np.int32)"
      ]
    },
    {
      "cell_type": "code",
      "execution_count": null,
      "metadata": {
        "id": "VZdDHknCO4fO"
      },
      "outputs": [],
      "source": [
        "# Verify row_id is the required ~ 41 million entries\n",
        "len(row_id)"
      ]
    },
    {
      "cell_type": "code",
      "execution_count": null,
      "metadata": {
        "id": "8aFk98BjGNS8"
      },
      "outputs": [],
      "source": [
        "#df = pd.DataFrame({'row_id':row_id, 'meter_reading':prediction_flat})"
      ]
    },
    {
      "cell_type": "code",
      "execution_count": null,
      "metadata": {
        "id": "uY5XBppYGc38"
      },
      "outputs": [],
      "source": [
        "#df.to_csv('/content/drive/My Drive/RNN_prediction.csv', index = False)"
      ]
    },
    {
      "cell_type": "code",
      "execution_count": null,
      "metadata": {
        "id": "Oir_LHGPKk2I"
      },
      "outputs": [],
      "source": [
        "#df.head()"
      ]
    },
    {
      "cell_type": "code",
      "execution_count": null,
      "metadata": {
        "id": "f8pP7Rf_MGuG"
      },
      "outputs": [],
      "source": [
        "# Construct dataframe\n",
        "df_2 = pd.DataFrame({'row_id': row_id, 'meter_reading':np.expm1(prediction_flat)})"
      ]
    },
    {
      "cell_type": "code",
      "execution_count": null,
      "metadata": {
        "id": "F-I09H1CMgyt"
      },
      "outputs": [],
      "source": [
        "# Save as csv\n",
        "df_2.to_csv('/content/drive/My Drive/RNN_prediction_expm1.csv', index = False)"
      ]
    },
    {
      "cell_type": "code",
      "execution_count": null,
      "metadata": {
        "colab": {
          "background_save": true
        },
        "id": "0k2sHo4NC7RJ"
      },
      "outputs": [],
      "source": [
        "# Accuracy metrics\n",
        "from sklearn import metrics as met\n",
        "r2_epochs20 = met.r2_score(train_yy[0:2000000], model.predict(train_xx[0:2000000]))"
      ]
    },
    {
      "cell_type": "code",
      "execution_count": null,
      "metadata": {
        "colab": {
          "background_save": true
        },
        "id": "ykkAP-7ZOz6S",
        "outputId": "ff4428fe-1c9d-4f0f-ba3f-fcbf1bf22f5d"
      },
      "outputs": [
        {
          "name": "stdout",
          "output_type": "stream",
          "text": [
            "R2 score for model is 0.6196341341432954\n",
            "Training RMSLE is 1.0738378763198853\n",
            "Test RMSLE is 1.0738378763198853\n"
          ]
        }
      ],
      "source": [
        "# Show metrics\n",
        "print('R2 score for model is {}'.format(r2_epochs20))\n",
        "print('Training RMSLE is {}'.format(error_train))\n",
        "print('Test RMSLE is {}'.format(error_test))"
      ]
    }
  ],
  "metadata": {
    "colab": {
      "name": "RNN_MS.ipynb",
      "provenance": []
    },
    "kernelspec": {
      "display_name": "Python 3",
      "name": "python3"
    },
    "language_info": {
      "name": "python"
    }
  },
  "nbformat": 4,
  "nbformat_minor": 0
}