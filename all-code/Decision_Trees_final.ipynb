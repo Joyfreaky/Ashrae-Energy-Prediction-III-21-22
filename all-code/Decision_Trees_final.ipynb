{
  "cells": [
    {
      "cell_type": "markdown",
      "metadata": {
        "id": "NMHv8o3O8uG_"
      },
      "source": [
        "# Decision Trees Classification Model"
      ]
    },
    {
      "cell_type": "markdown",
      "metadata": {
        "id": "9GcrHLqb85L3"
      },
      "source": [
        "## Reading in processed data"
      ]
    },
    {
      "cell_type": "code",
      "execution_count": null,
      "metadata": {
        "colab": {
          "base_uri": "https://localhost:8080/"
        },
        "id": "OIxJ3j7rnTPZ",
        "outputId": "aad054a5-65ec-42e9-ef25-f154777db24d"
      },
      "outputs": [
        {
          "name": "stdout",
          "output_type": "stream",
          "text": [
            "Mounted at /content/drive\n"
          ]
        }
      ],
      "source": [
        "# Basic imports\n",
        "import numpy as np \n",
        "import pandas as pd \n",
        "\n",
        "# Acquire data from google drive\n",
        "from google.colab import drive\n",
        "drive.mount('/content/drive')\n",
        "\n",
        "# Reading in processed data\n",
        "train_data = pd.read_feather('/content/drive/My Drive/Colab Notebooks/training_data_processed_feather.feather')\n",
        "test_data = pd.read_feather('/content/drive/My Drive/Colab Notebooks/testing_data_processed_feather.feather')\n",
        "train_data = train_data.sample(n=int(len(train_data)*0.75))\n",
        "\n",
        "#print(len(test_data))\n",
        "#print(test_data.head())\n",
        "\n"
      ]
    },
    {
      "cell_type": "markdown",
      "metadata": {
        "id": "j2SG9VSK9Jjj"
      },
      "source": [
        "## Memory Usage Reduction "
      ]
    },
    {
      "cell_type": "code",
      "execution_count": null,
      "metadata": {
        "id": "Brg6yxqKnQsY"
      },
      "outputs": [],
      "source": [
        "# Reducing memory usage func\n",
        "def reduce_mem_usage(df):\n",
        "\n",
        "    \n",
        "    for col in df.columns:\n",
        "\n",
        "        col_type = df[col].dtype\n",
        "\n",
        "        if col_type != object:\n",
        "            c_min = df[col].min()\n",
        "            c_max = df[col].max()\n",
        "            if str(col_type)[:3] == 'int':\n",
        "                if c_min > np.iinfo(np.int8).min and c_max < np.iinfo(np.int8).max:\n",
        "                    df[col] = df[col].astype(np.int8)\n",
        "                elif c_min > np.iinfo(np.int16).min and c_max < np.iinfo(np.int16).max:\n",
        "                    df[col] = df[col].astype(np.int16)\n",
        "                elif c_min > np.iinfo(np.int32).min and c_max < np.iinfo(np.int32).max:\n",
        "                    df[col] = df[col].astype(np.int32)\n",
        "                elif c_min > np.iinfo(np.int64).min and c_max < np.iinfo(np.int64).max:\n",
        "                    df[col] = df[col].astype(np.int64)  \n",
        "            else:\n",
        "                if c_min > np.finfo(np.float16).min and c_max < np.finfo(np.float16).max:\n",
        "                    df[col] = df[col].astype(np.float16)\n",
        "                elif c_min > np.finfo(np.float32).min and c_max < np.finfo(np.float32).max:\n",
        "                    df[col] = df[col].astype(np.float32)\n",
        "                else:\n",
        "                    df[col] = df[col].astype(np.float64)\n",
        "        else:\n",
        "            df[col] = df[col].astype('category')\n",
        "\n",
        "\n",
        "    return df\n",
        "# Implementing memory reduction func\n",
        "train_data = reduce_mem_usage(train_data)\n",
        "test_data = reduce_mem_usage(test_data)"
      ]
    },
    {
      "cell_type": "markdown",
      "metadata": {
        "id": "8oFGJhwa9Hnd"
      },
      "source": [
        "## Creating pipeline to encode data before going through classifier"
      ]
    },
    {
      "cell_type": "code",
      "execution_count": null,
      "metadata": {
        "id": "dasZRZlKnNeY"
      },
      "outputs": [],
      "source": [
        "# Imports for encoding data before model\n",
        "from sklearn.pipeline import Pipeline\n",
        "from sklearn.preprocessing import OneHotEncoder, StandardScaler\n",
        "from sklearn.compose import ColumnTransformer\n",
        "\n",
        "\n",
        "# Transformer for categorical features such as objects and boolean.\n",
        "categorical_features = []\n",
        "categorical_transformer = Pipeline(\n",
        "    [\n",
        "        ('onehot', OneHotEncoder(handle_unknown = 'ignore'))\n",
        "    ]\n",
        ")\n",
        "\n",
        "# Transformer for numerical features such as floats and integers\n",
        "numeric_features = ['index', 'building_id', 'square_feet', 'primary_use', 'meter',\n",
        "       'air_temperature', 'day_of_year', 'hour', 'isDayTime', 'day_of_week']\n",
        "                    \n",
        "numeric_transformer = Pipeline(\n",
        "    [\n",
        "        ('scaler', StandardScaler())\n",
        "    ]\n",
        ")\n",
        "\n",
        "# Combine them in a single ColumnTransformer\n",
        "preprocessor = ColumnTransformer(\n",
        "    [\n",
        "        ('categoricals', categorical_transformer, categorical_features),\n",
        "        ('numericals', numeric_transformer, numeric_features)\n",
        "    ],\n",
        "    remainder = 'drop'\n",
        ")"
      ]
    },
    {
      "cell_type": "markdown",
      "metadata": {
        "id": "QazhH-6M9drz"
      },
      "source": [
        "## Producing the X and y train values that will train the data"
      ]
    },
    {
      "cell_type": "code",
      "execution_count": null,
      "metadata": {
        "id": "IYniu_bwnJMD"
      },
      "outputs": [],
      "source": [
        "# Producing the training values\n",
        "X_train = train_data.drop(\"meter_reading\", axis = 1)\n",
        "\n",
        "y_train = (train_data['meter_reading']).astype(int)\n"
      ]
    },
    {
      "cell_type": "markdown",
      "metadata": {
        "id": "ClfG38Sx9nZ_"
      },
      "source": [
        "## Hyperparameter Tuning"
      ]
    },
    {
      "cell_type": "markdown",
      "metadata": {
        "id": "Ps0L1k2C9tKd"
      },
      "source": [
        "Tuning max_depth hyperparameter"
      ]
    },
    {
      "cell_type": "code",
      "execution_count": null,
      "metadata": {
        "id": "XXI2ZY2jACVg"
      },
      "outputs": [],
      "source": [
        "from sklearn.tree import DecisionTreeClassifier\n",
        "from sklearn.pipeline import Pipeline"
      ]
    },
    {
      "cell_type": "code",
      "execution_count": null,
      "metadata": {
        "id": "yFenpPn7OPB_"
      },
      "outputs": [],
      "source": [
        "\n",
        "# Hyper parameter testing\n",
        "# Imports\n",
        "from sklearn.metrics import accuracy_score\n",
        "from sklearn.model_selection import train_test_split\n",
        "\n",
        "# Producing sample training and test sets for testing hyperparameters\n",
        "\n",
        "df_x = X_train.sample(n = 150000)\n",
        "df_y = y_train.sample(n = 150000)\n",
        "\n",
        "# Splitting test and train data\n",
        "X_train_hyp, X_test_hyp, y_train_hyp, y_test_hyp = train_test_split(df_x, df_y, \n",
        "                                                test_size=0.33, random_state=42)\n",
        "# Creating values that will be tested\n",
        "max_depth_test = np.arange(1,101,10)\n",
        "acc_score=[]\n",
        "\n",
        "\n",
        "for i in max_depth_test:\n",
        "  # Decision Tree Classifier\n",
        "  DTClassifier = Pipeline(\n",
        "      [\n",
        "       ('preprocessing', preprocessor),\n",
        "      ('classifier', DecisionTreeClassifier(criterion=\"gini\", random_state=42, \n",
        "                                            max_depth=i))\n",
        "      ]\n",
        "  )\n",
        "  # Training\n",
        "  DTClassifier.fit(X = X_train_hyp, y = y_train_hyp)\n",
        "  # Predicting\n",
        "  test_hyp = DTClassifier.predict(X_test_hyp)\n",
        "  # Appending accuracy score\n",
        "  acc_score.append(accuracy_score(test_hyp, y_test_hyp))\n",
        "  \n",
        "# Getting the value that is associated with best accuracy score\n",
        "best_max_depth_index = acc_score.index(max(acc_score))\n",
        "best_max = max_depth_test[best_max_depth_index]\n",
        "\n",
        "\n"
      ]
    },
    {
      "cell_type": "markdown",
      "metadata": {
        "id": "VwbiPRbJ90It"
      },
      "source": [
        "Tuning random state hyperparameter"
      ]
    },
    {
      "cell_type": "code",
      "execution_count": null,
      "metadata": {
        "colab": {
          "base_uri": "https://localhost:8080/"
        },
        "id": "qQ4XFkV8RUI0",
        "outputId": "2c6b7d2f-3e9f-4a05-a30e-d7504529fff7"
      },
      "outputs": [
        {
          "name": "stdout",
          "output_type": "stream",
          "text": [
            "71\n"
          ]
        }
      ],
      "source": [
        "# Creating loop for random state test\n",
        "acc2_score=[]\n",
        "random_state_test = np.arange(1,101,10)\n",
        "for i in random_state_test:\n",
        "  # Decision Tree Classifier\n",
        "  DTClassifier = Pipeline(\n",
        "      [\n",
        "       ('preprocessing', preprocessor),\n",
        "      ('classifier', DecisionTreeClassifier(criterion=\"gini\", random_state=i, \n",
        "                                            max_depth=best_max))\n",
        "      ]\n",
        "  )\n",
        "  # Training\n",
        "  DTClassifier.fit(X = X_train_hyp, y = y_train_hyp)\n",
        "  # Predicting\n",
        "  test_hyp = DTClassifier.predict(X_test_hyp)\n",
        "  acc2_score.append(accuracy_score(test_hyp, y_test_hyp))\n",
        "\n",
        "# Best random state extracted\n",
        "best_random_state_index = acc2_score.index(max(acc2_score))\n",
        "best_max_rs = random_state_test[best_random_state_index]\n",
        "\n"
      ]
    },
    {
      "cell_type": "markdown",
      "metadata": {
        "id": "mikC0L3695f2"
      },
      "source": [
        "Plotting hyperparameter tuning results"
      ]
    },
    {
      "cell_type": "code",
      "execution_count": null,
      "metadata": {
        "colab": {
          "base_uri": "https://localhost:8080/",
          "height": 313
        },
        "id": "7sQyNzeNSyKg",
        "outputId": "b8d38cab-c3f3-4cdc-a0fd-2662c4b10f2f"
      },
      "outputs": [
        {
          "data": {
            "text/plain": [
              "Text(0, 0.5, 'Accuracy Score')"
            ]
          },
          "execution_count": 7,
          "metadata": {},
          "output_type": "execute_result"
        },
        {
          "data": {
            "image/png": "[encoded data removed]",
            "text/plain": [
              "<Figure size 432x288 with 1 Axes>"
            ]
          },
          "metadata": {},
          "output_type": "display_data"
        }
      ],
      "source": [
        "import matplotlib.pyplot as plt\n",
        "\n",
        "# Plotting the accuracy for the hyperparameter\n",
        "plt.plot(max_depth_test,acc_score)\n",
        "plt.title(\"Max Depth Parameter Test\")\n",
        "plt.xlabel(\"Max Depth Test Value\")\n",
        "plt.ylabel(\"Accuracy Score\")\n"
      ]
    },
    {
      "cell_type": "code",
      "execution_count": null,
      "metadata": {
        "colab": {
          "base_uri": "https://localhost:8080/",
          "height": 313
        },
        "id": "9lyH2xksVEnm",
        "outputId": "40dd1453-a1e5-4abd-f9b0-248fd9dd69ba"
      },
      "outputs": [
        {
          "data": {
            "text/plain": [
              "Text(0, 0.5, 'Accuracy Score')"
            ]
          },
          "execution_count": 8,
          "metadata": {},
          "output_type": "execute_result"
        },
        {
          "data": {
            "image/png": "[encoded data removed]",
            "text/plain": [
              "<Figure size 432x288 with 1 Axes>"
            ]
          },
          "metadata": {},
          "output_type": "display_data"
        }
      ],
      "source": [
        "# Plotting the accuracy for the hyperparameter\n",
        "plt.plot(random_state_test,acc2_score)\n",
        "plt.title(\"Random State Parameter Test\")\n",
        "plt.xlabel(\"Random State Test Value\")\n",
        "plt.ylabel(\"Accuracy Score\")"
      ]
    },
    {
      "cell_type": "markdown",
      "metadata": {
        "id": "8gbZhTEi99_4"
      },
      "source": [
        "Best random state is 1 and due to memory restrictions best max depth that can be used is 14"
      ]
    },
    {
      "cell_type": "code",
      "execution_count": null,
      "metadata": {
        "id": "bwJE_8LP0rBd"
      },
      "outputs": [],
      "source": [
        "# Deleting unnecessary values for memory usage reduction\n",
        "del acc_score, acc2_score, y_test_hyp, X_train_hyp"
      ]
    },
    {
      "cell_type": "markdown",
      "metadata": {
        "id": "c3Ixfgx6-amu"
      },
      "source": [
        "## Fitting and Predicting"
      ]
    },
    {
      "cell_type": "markdown",
      "metadata": {
        "id": "XrPmSOal-hx4"
      },
      "source": [
        "## Classification Pipeline"
      ]
    },
    {
      "cell_type": "code",
      "execution_count": null,
      "metadata": {
        "id": "tYgo1p43m-Rl"
      },
      "outputs": [],
      "source": [
        "\n",
        "# K-NEAREST NEIGHBOUR CLASSIFICATION\n",
        "\n",
        "\n",
        "# KNN pipeline\n",
        "DTClassifier = Pipeline(\n",
        "    [\n",
        "     ('preprocessing', preprocessor),\n",
        "     ('classifier', DecisionTreeClassifier(criterion=\"gini\", random_state=1, max_depth = 14))\n",
        "    ]\n",
        ")\n",
        "\n"
      ]
    },
    {
      "cell_type": "markdown",
      "metadata": {
        "id": "1gCGP_gC-r7a"
      },
      "source": [
        "Fitting data"
      ]
    },
    {
      "cell_type": "code",
      "execution_count": null,
      "metadata": {
        "colab": {
          "background_save": true
        },
        "id": "AJhr-N5-nDDc",
        "outputId": "e3ffe3dd-3dad-46c2-d8ff-1ec62c211689"
      },
      "outputs": [
        {
          "data": {
            "text/plain": [
              "Pipeline(steps=[('preprocessing',\n",
              "                 ColumnTransformer(transformers=[('categoricals',\n",
              "                                                  Pipeline(steps=[('onehot',\n",
              "                                                                   OneHotEncoder(handle_unknown='ignore'))]),\n",
              "                                                  []),\n",
              "                                                 ('numericals',\n",
              "                                                  Pipeline(steps=[('scaler',\n",
              "                                                                   StandardScaler())]),\n",
              "                                                  ['index', 'building_id',\n",
              "                                                   'square_feet', 'primary_use',\n",
              "                                                   'meter', 'air_temperature',\n",
              "                                                   'day_of_year', 'hour',\n",
              "                                                   'isDayTime',\n",
              "                                                   'day_of_week'])])),\n",
              "                ('classifier',\n",
              "                 DecisionTreeClassifier(max_depth=14, random_state=1))])"
            ]
          },
          "execution_count": null,
          "metadata": {},
          "output_type": "execute_result"
        }
      ],
      "source": [
        "# Inputting the training data through the classifications\n",
        "\n",
        "DTClassifier.fit(X = X_train, y = y_train)\n",
        "\n",
        "\n"
      ]
    },
    {
      "cell_type": "markdown",
      "metadata": {
        "id": "9wgIi2KD-u9P"
      },
      "source": [
        "Predicting data"
      ]
    },
    {
      "cell_type": "code",
      "execution_count": null,
      "metadata": {
        "id": "q1yDbiyDEFtJ"
      },
      "outputs": [],
      "source": [
        "# Using the test data to produce predicted revenue values\n",
        "\n",
        "# Creating steops of 20000 to loop through the test data\n",
        "steps = np.arange(0,len(test_data), 20000)\n",
        "DT_pred=[]\n",
        "# Looping through at 20000 values at a time to reduce memory used\n",
        "for i in steps:\n",
        "  test_data_sample = test_data[i:i+20000]\n",
        "  DT_pred.append(DTClassifier.predict(test_data_sample))"
      ]
    },
    {
      "cell_type": "code",
      "execution_count": null,
      "metadata": {
        "id": "lnII-4OBJEkQ"
      },
      "outputs": [],
      "source": [
        "# Un-nesting the list created\n",
        "from itertools import chain\n",
        "final_pred = list(chain.from_iterable(DT_pred))"
      ]
    },
    {
      "cell_type": "markdown",
      "metadata": {
        "id": "zHRrgLLX-1kk"
      },
      "source": [
        "## Creating dataframe for predicted values for Kaggle upload"
      ]
    },
    {
      "cell_type": "code",
      "execution_count": null,
      "metadata": {
        "id": "dKpMf6OcmuO1"
      },
      "outputs": [],
      "source": [
        "# Creating row_id (index)\n",
        "row_id = np.arange(start = 0, stop = int(len(a)))"
      ]
    },
    {
      "cell_type": "code",
      "execution_count": null,
      "metadata": {
        "id": "_CDFJyOBmo8K"
      },
      "outputs": [],
      "source": [
        "# Combine into a dataframe for exporting\n",
        "df = pd.DataFrame({\"row_id\":row_id, \"meter_reading\":final_pred})\n",
        "\n",
        "# Exporting as csv\n",
        "df.to_csv('/content/drive/My Drive/Colab Notebooks/DT_Model_final.csv', index=False)"
      ]
    }
  ],
  "metadata": {
    "colab": {
      "collapsed_sections": [],
      "name": "Decision_Trees_final.ipynb",
      "provenance": [],
      "toc_visible": true
    },
    "kernelspec": {
      "display_name": "Python 3",
      "name": "python3"
    },
    "language_info": {
      "name": "python"
    }
  },
  "nbformat": 4,
  "nbformat_minor": 0
}