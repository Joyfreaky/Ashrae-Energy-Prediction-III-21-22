{
  "nbformat": 4,
  "nbformat_minor": 0,
  "metadata": {
    "colab": {
      "name": "ML_Final.ipynb",
      "provenance": []
    },
    "kernelspec": {
      "name": "python3",
      "display_name": "Python 3"
    },
    "language_info": {
      "name": "python"
    }
  },
  "cells": [
    {
      "cell_type": "code",
      "execution_count": 1,
      "metadata": {
        "id": "tT3oRvEFUtYK"
      },
      "outputs": [],
      "source": [
        "# Energy prediction 3 (ASHRAE)\n",
        "# Imports/Formatting\n",
        "%matplotlib inline\n",
        "\n",
        "import pandas as pd\n",
        "import numpy as np\n",
        "import matplotlib.pyplot as plt\n",
        "import seaborn as sns\n",
        "import os\n",
        "\n",
        "from sklearn.impute import SimpleImputer\n",
        "from sklearn.preprocessing import OneHotEncoder\n",
        "from sklearn.preprocessing import FunctionTransformer\n",
        "from sklearn.pipeline import Pipeline\n",
        "from sklearn.compose import ColumnTransformer\n",
        "from sklearn.preprocessing import LabelEncoder\n",
        "from sklearn import utils\n",
        "from sklearn import preprocessing\n",
        "from sklearn.model_selection import RandomizedSearchCV, GridSearchCV\n",
        "from sklearn.linear_model import LinearRegression\n",
        "from sklearn.linear_model import SGDRegressor,Ridge,ElasticNet\n",
        "from sklearn.model_selection import train_test_split,KFold,GroupKFold\n",
        "import lightgbm as lgb\n",
        "import gc\n",
        "from sklearn.metrics import mean_squared_error\n",
        "from sklearn.model_selection import cross_val_score\n",
        "from sklearn. linear_model import Lasso\n",
        "from sklearn.tree import DecisionTreeRegressor\n",
        "from sklearn.ensemble import RandomForestRegressor\n",
        "from sklearn.svm import SVR\n",
        "\n",
        "import tensorflow as tf\n",
        "from tensorflow import keras\n",
        "import tensorflow.keras.layers as layers\n",
        "from tensorflow.keras.models import Sequential\n",
        "from tensorflow.keras.layers import Dense,Dropout, Activation\n",
        "from tensorflow.keras.optimizers import *\n",
        "\n",
        "from prettytable import PrettyTable\n",
        "\n",
        "import warnings\n",
        "warnings.filterwarnings('ignore')\n"
      ]
    },
    {
      "cell_type": "code",
      "source": [
        "'''\n",
        "README\n",
        "With getting processed data, this programme reads in as feather, and then converts\n",
        "it to CSV. Google colab RAM cannot handle reading them both in as CSV.\n",
        "'''"
      ],
      "metadata": {
        "colab": {
          "base_uri": "https://localhost:8080/",
          "height": 53
        },
        "id": "O8SKES0Aasbf",
        "outputId": "0c5b548c-9d77-4f9f-cc3c-71971ef50866"
      },
      "execution_count": 2,
      "outputs": [
        {
          "output_type": "execute_result",
          "data": {
            "text/plain": [
              "'\\nREADME\\nWith getting processed data, this programme reads in as feather, and then converts\\nit to CSV. Google colab RAM cannot handle reading them both in as CSV.\\n'"
            ],
            "application/vnd.google.colaboratory.intrinsic+json": {
              "type": "string"
            }
          },
          "metadata": {},
          "execution_count": 2
        }
      ]
    },
    {
      "cell_type": "code",
      "source": [
        "# Get PROCESSED train data from drive \n",
        "from google.colab import drive\n",
        "drive.mount('/content/drive', force_remount = True)\n",
        "train_data = pd.read_feather('/content/drive/My Drive/training_data_processed_feather.feather')"
      ],
      "metadata": {
        "colab": {
          "base_uri": "https://localhost:8080/"
        },
        "id": "vqW0zlmqU3Kt",
        "outputId": "91f84033-c4c3-41d2-8d1b-da117ba080ab"
      },
      "execution_count": 3,
      "outputs": [
        {
          "output_type": "stream",
          "name": "stdout",
          "text": [
            "Mounted at /content/drive\n"
          ]
        }
      ]
    },
    {
      "cell_type": "code",
      "source": [
        "# Get PROCESSED test data from drive\n",
        "test_data = pd.read_feather('/content/drive/My Drive/testing_data_processed_feather.feather')"
      ],
      "metadata": {
        "id": "x9ZAD76jU6Hs"
      },
      "execution_count": 4,
      "outputs": []
    },
    {
      "cell_type": "code",
      "source": [
        "# Convert training data back to CSV file\n",
        "train_data.to_csv('train_data', index = False)"
      ],
      "metadata": {
        "id": "wBf2VCYoX3u_"
      },
      "execution_count": 5,
      "outputs": []
    },
    {
      "cell_type": "code",
      "source": [
        "# Convert testing data back to CSV file\n",
        "test_data.to_csv('test_data', index = False)"
      ],
      "metadata": {
        "id": "DO47A-NRZnKP"
      },
      "execution_count": 6,
      "outputs": []
    },
    {
      "cell_type": "code",
      "source": [
        "# Check type\n",
        "print('Type of train_data: ', type(train_data))\n",
        "print('Type of test_data: ', type(test_data))"
      ],
      "metadata": {
        "colab": {
          "base_uri": "https://localhost:8080/"
        },
        "id": "1zv31UIyYv5e",
        "outputId": "5a900dea-b54b-43a7-955b-fd61fac755cb"
      },
      "execution_count": 7,
      "outputs": [
        {
          "output_type": "stream",
          "name": "stdout",
          "text": [
            "Type of train_data:  <class 'pandas.core.frame.DataFrame'>\n",
            "Type of test_data:  <class 'pandas.core.frame.DataFrame'>\n"
          ]
        }
      ]
    },
    {
      "cell_type": "code",
      "source": [
        "# Drop index columns\n",
        "train_data = train_data.drop('index', axis = 1, errors = 'ignore')\n",
        "test_data = test_data.drop('index', axis = 1, errors = 'ignore')"
      ],
      "metadata": {
        "id": "2GACBb_qaj-v"
      },
      "execution_count": 8,
      "outputs": []
    },
    {
      "cell_type": "code",
      "source": [
        "# Inspect train_data\n",
        "train_data.head()"
      ],
      "metadata": {
        "colab": {
          "base_uri": "https://localhost:8080/",
          "height": 270
        },
        "id": "V7oOvF9ia5_4",
        "outputId": "ea3b4e0c-76a2-47aa-b544-0974aa68d813"
      },
      "execution_count": 9,
      "outputs": [
        {
          "output_type": "execute_result",
          "data": {
            "text/plain": [
              "   building_id  square_feet  primary_use  meter  air_temperature  day_of_year  \\\n",
              "0           46     9.109375           11      0        25.000000          1.0   \n",
              "1           74    12.867188            8      0        25.000000          1.0   \n",
              "2           93    10.414062            6      0        25.000000          1.0   \n",
              "3          105    10.835938            0      0         3.800781          1.0   \n",
              "4          106     8.585938            0      0         3.800781          1.0   \n",
              "\n",
              "   hour  isDayTime  day_of_week  meter_reading  \n",
              "0   0.0          0          4.0       3.994141  \n",
              "1   0.0          0          4.0       3.785156  \n",
              "2   0.0          0          4.0       3.978516  \n",
              "3   0.0          0          4.0       3.191406  \n",
              "4   0.0          0          4.0       0.318115  "
            ],
            "text/html": [
              "\n",
              "  <div id=\"df-a170a11a-7bc7-4f6c-8314-cc25830891f1\">\n",
              "    <div class=\"colab-df-container\">\n",
              "      <div>\n",
              "<style scoped>\n",
              "    .dataframe tbody tr th:only-of-type {\n",
              "        vertical-align: middle;\n",
              "    }\n",
              "\n",
              "    .dataframe tbody tr th {\n",
              "        vertical-align: top;\n",
              "    }\n",
              "\n",
              "    .dataframe thead th {\n",
              "        text-align: right;\n",
              "    }\n",
              "</style>\n",
              "<table border=\"1\" class=\"dataframe\">\n",
              "  <thead>\n",
              "    <tr style=\"text-align: right;\">\n",
              "      <th></th>\n",
              "      <th>building_id</th>\n",
              "      <th>square_feet</th>\n",
              "      <th>primary_use</th>\n",
              "      <th>meter</th>\n",
              "      <th>air_temperature</th>\n",
              "      <th>day_of_year</th>\n",
              "      <th>hour</th>\n",
              "      <th>isDayTime</th>\n",
              "      <th>day_of_week</th>\n",
              "      <th>meter_reading</th>\n",
              "    </tr>\n",
              "  </thead>\n",
              "  <tbody>\n",
              "    <tr>\n",
              "      <th>0</th>\n",
              "      <td>46</td>\n",
              "      <td>9.109375</td>\n",
              "      <td>11</td>\n",
              "      <td>0</td>\n",
              "      <td>25.000000</td>\n",
              "      <td>1.0</td>\n",
              "      <td>0.0</td>\n",
              "      <td>0</td>\n",
              "      <td>4.0</td>\n",
              "      <td>3.994141</td>\n",
              "    </tr>\n",
              "    <tr>\n",
              "      <th>1</th>\n",
              "      <td>74</td>\n",
              "      <td>12.867188</td>\n",
              "      <td>8</td>\n",
              "      <td>0</td>\n",
              "      <td>25.000000</td>\n",
              "      <td>1.0</td>\n",
              "      <td>0.0</td>\n",
              "      <td>0</td>\n",
              "      <td>4.0</td>\n",
              "      <td>3.785156</td>\n",
              "    </tr>\n",
              "    <tr>\n",
              "      <th>2</th>\n",
              "      <td>93</td>\n",
              "      <td>10.414062</td>\n",
              "      <td>6</td>\n",
              "      <td>0</td>\n",
              "      <td>25.000000</td>\n",
              "      <td>1.0</td>\n",
              "      <td>0.0</td>\n",
              "      <td>0</td>\n",
              "      <td>4.0</td>\n",
              "      <td>3.978516</td>\n",
              "    </tr>\n",
              "    <tr>\n",
              "      <th>3</th>\n",
              "      <td>105</td>\n",
              "      <td>10.835938</td>\n",
              "      <td>0</td>\n",
              "      <td>0</td>\n",
              "      <td>3.800781</td>\n",
              "      <td>1.0</td>\n",
              "      <td>0.0</td>\n",
              "      <td>0</td>\n",
              "      <td>4.0</td>\n",
              "      <td>3.191406</td>\n",
              "    </tr>\n",
              "    <tr>\n",
              "      <th>4</th>\n",
              "      <td>106</td>\n",
              "      <td>8.585938</td>\n",
              "      <td>0</td>\n",
              "      <td>0</td>\n",
              "      <td>3.800781</td>\n",
              "      <td>1.0</td>\n",
              "      <td>0.0</td>\n",
              "      <td>0</td>\n",
              "      <td>4.0</td>\n",
              "      <td>0.318115</td>\n",
              "    </tr>\n",
              "  </tbody>\n",
              "</table>\n",
              "</div>\n",
              "      <button class=\"colab-df-convert\" onclick=\"convertToInteractive('df-a170a11a-7bc7-4f6c-8314-cc25830891f1')\"\n",
              "              title=\"Convert this dataframe to an interactive table.\"\n",
              "              style=\"display:none;\">\n",
              "        \n",
              "  <svg xmlns=\"http://www.w3.org/2000/svg\" height=\"24px\"viewBox=\"0 0 24 24\"\n",
              "       width=\"24px\">\n",
              "    <path d=\"M0 0h24v24H0V0z\" fill=\"none\"/>\n",
              "    <path d=\"M18.56 5.44l.94 2.06.94-2.06 2.06-.94-2.06-.94-.94-2.06-.94 2.06-2.06.94zm-11 1L8.5 8.5l.94-2.06 2.06-.94-2.06-.94L8.5 2.5l-.94 2.06-2.06.94zm10 10l.94 2.06.94-2.06 2.06-.94-2.06-.94-.94-2.06-.94 2.06-2.06.94z\"/><path d=\"M17.41 7.96l-1.37-1.37c-.4-.4-.92-.59-1.43-.59-.52 0-1.04.2-1.43.59L10.3 9.45l-7.72 7.72c-.78.78-.78 2.05 0 2.83L4 21.41c.39.39.9.59 1.41.59.51 0 1.02-.2 1.41-.59l7.78-7.78 2.81-2.81c.8-.78.8-2.07 0-2.86zM5.41 20L4 18.59l7.72-7.72 1.47 1.35L5.41 20z\"/>\n",
              "  </svg>\n",
              "      </button>\n",
              "      \n",
              "  <style>\n",
              "    .colab-df-container {\n",
              "      display:flex;\n",
              "      flex-wrap:wrap;\n",
              "      gap: 12px;\n",
              "    }\n",
              "\n",
              "    .colab-df-convert {\n",
              "      background-color: #E8F0FE;\n",
              "      border: none;\n",
              "      border-radius: 50%;\n",
              "      cursor: pointer;\n",
              "      display: none;\n",
              "      fill: #1967D2;\n",
              "      height: 32px;\n",
              "      padding: 0 0 0 0;\n",
              "      width: 32px;\n",
              "    }\n",
              "\n",
              "    .colab-df-convert:hover {\n",
              "      background-color: #E2EBFA;\n",
              "      box-shadow: 0px 1px 2px rgba(60, 64, 67, 0.3), 0px 1px 3px 1px rgba(60, 64, 67, 0.15);\n",
              "      fill: #174EA6;\n",
              "    }\n",
              "\n",
              "    [theme=dark] .colab-df-convert {\n",
              "      background-color: #3B4455;\n",
              "      fill: #D2E3FC;\n",
              "    }\n",
              "\n",
              "    [theme=dark] .colab-df-convert:hover {\n",
              "      background-color: #434B5C;\n",
              "      box-shadow: 0px 1px 3px 1px rgba(0, 0, 0, 0.15);\n",
              "      filter: drop-shadow(0px 1px 2px rgba(0, 0, 0, 0.3));\n",
              "      fill: #FFFFFF;\n",
              "    }\n",
              "  </style>\n",
              "\n",
              "      <script>\n",
              "        const buttonEl =\n",
              "          document.querySelector('#df-a170a11a-7bc7-4f6c-8314-cc25830891f1 button.colab-df-convert');\n",
              "        buttonEl.style.display =\n",
              "          google.colab.kernel.accessAllowed ? 'block' : 'none';\n",
              "\n",
              "        async function convertToInteractive(key) {\n",
              "          const element = document.querySelector('#df-a170a11a-7bc7-4f6c-8314-cc25830891f1');\n",
              "          const dataTable =\n",
              "            await google.colab.kernel.invokeFunction('convertToInteractive',\n",
              "                                                     [key], {});\n",
              "          if (!dataTable) return;\n",
              "\n",
              "          const docLinkHtml = 'Like what you see? Visit the ' +\n",
              "            '<a target=\"_blank\" href=https://colab.research.google.com/notebooks/data_table.ipynb>data table notebook</a>'\n",
              "            + ' to learn more about interactive tables.';\n",
              "          element.innerHTML = '';\n",
              "          dataTable['output_type'] = 'display_data';\n",
              "          await google.colab.output.renderOutput(dataTable, element);\n",
              "          const docLink = document.createElement('div');\n",
              "          docLink.innerHTML = docLinkHtml;\n",
              "          element.appendChild(docLink);\n",
              "        }\n",
              "      </script>\n",
              "    </div>\n",
              "  </div>\n",
              "  "
            ]
          },
          "metadata": {},
          "execution_count": 9
        }
      ]
    },
    {
      "cell_type": "code",
      "source": [
        "# Inspect test_data\n",
        "test_data.head()"
      ],
      "metadata": {
        "colab": {
          "base_uri": "https://localhost:8080/",
          "height": 270
        },
        "id": "51y8W4nla7rf",
        "outputId": "2ff4a1ae-4ff2-47b7-9499-081ae5ad1f34"
      },
      "execution_count": 10,
      "outputs": [
        {
          "output_type": "execute_result",
          "data": {
            "text/plain": [
              "   building_id  square_feet  primary_use  meter  air_temperature  day_of_year  \\\n",
              "0            0     8.914062            0      0        17.796875          1.0   \n",
              "1            1     7.910156            0      0        17.796875          1.0   \n",
              "2            2     8.593750            0      0        17.796875          1.0   \n",
              "3            3    10.070312            0      0        17.796875          1.0   \n",
              "4            4    11.664062            0      0        17.796875          1.0   \n",
              "\n",
              "   hour  isDayTime  day_of_week  \n",
              "0   0.0          0          6.0  \n",
              "1   0.0          0          6.0  \n",
              "2   0.0          0          6.0  \n",
              "3   0.0          0          6.0  \n",
              "4   0.0          0          6.0  "
            ],
            "text/html": [
              "\n",
              "  <div id=\"df-2c2dbd4e-92ae-4313-97ee-4be14f9f0fd6\">\n",
              "    <div class=\"colab-df-container\">\n",
              "      <div>\n",
              "<style scoped>\n",
              "    .dataframe tbody tr th:only-of-type {\n",
              "        vertical-align: middle;\n",
              "    }\n",
              "\n",
              "    .dataframe tbody tr th {\n",
              "        vertical-align: top;\n",
              "    }\n",
              "\n",
              "    .dataframe thead th {\n",
              "        text-align: right;\n",
              "    }\n",
              "</style>\n",
              "<table border=\"1\" class=\"dataframe\">\n",
              "  <thead>\n",
              "    <tr style=\"text-align: right;\">\n",
              "      <th></th>\n",
              "      <th>building_id</th>\n",
              "      <th>square_feet</th>\n",
              "      <th>primary_use</th>\n",
              "      <th>meter</th>\n",
              "      <th>air_temperature</th>\n",
              "      <th>day_of_year</th>\n",
              "      <th>hour</th>\n",
              "      <th>isDayTime</th>\n",
              "      <th>day_of_week</th>\n",
              "    </tr>\n",
              "  </thead>\n",
              "  <tbody>\n",
              "    <tr>\n",
              "      <th>0</th>\n",
              "      <td>0</td>\n",
              "      <td>8.914062</td>\n",
              "      <td>0</td>\n",
              "      <td>0</td>\n",
              "      <td>17.796875</td>\n",
              "      <td>1.0</td>\n",
              "      <td>0.0</td>\n",
              "      <td>0</td>\n",
              "      <td>6.0</td>\n",
              "    </tr>\n",
              "    <tr>\n",
              "      <th>1</th>\n",
              "      <td>1</td>\n",
              "      <td>7.910156</td>\n",
              "      <td>0</td>\n",
              "      <td>0</td>\n",
              "      <td>17.796875</td>\n",
              "      <td>1.0</td>\n",
              "      <td>0.0</td>\n",
              "      <td>0</td>\n",
              "      <td>6.0</td>\n",
              "    </tr>\n",
              "    <tr>\n",
              "      <th>2</th>\n",
              "      <td>2</td>\n",
              "      <td>8.593750</td>\n",
              "      <td>0</td>\n",
              "      <td>0</td>\n",
              "      <td>17.796875</td>\n",
              "      <td>1.0</td>\n",
              "      <td>0.0</td>\n",
              "      <td>0</td>\n",
              "      <td>6.0</td>\n",
              "    </tr>\n",
              "    <tr>\n",
              "      <th>3</th>\n",
              "      <td>3</td>\n",
              "      <td>10.070312</td>\n",
              "      <td>0</td>\n",
              "      <td>0</td>\n",
              "      <td>17.796875</td>\n",
              "      <td>1.0</td>\n",
              "      <td>0.0</td>\n",
              "      <td>0</td>\n",
              "      <td>6.0</td>\n",
              "    </tr>\n",
              "    <tr>\n",
              "      <th>4</th>\n",
              "      <td>4</td>\n",
              "      <td>11.664062</td>\n",
              "      <td>0</td>\n",
              "      <td>0</td>\n",
              "      <td>17.796875</td>\n",
              "      <td>1.0</td>\n",
              "      <td>0.0</td>\n",
              "      <td>0</td>\n",
              "      <td>6.0</td>\n",
              "    </tr>\n",
              "  </tbody>\n",
              "</table>\n",
              "</div>\n",
              "      <button class=\"colab-df-convert\" onclick=\"convertToInteractive('df-2c2dbd4e-92ae-4313-97ee-4be14f9f0fd6')\"\n",
              "              title=\"Convert this dataframe to an interactive table.\"\n",
              "              style=\"display:none;\">\n",
              "        \n",
              "  <svg xmlns=\"http://www.w3.org/2000/svg\" height=\"24px\"viewBox=\"0 0 24 24\"\n",
              "       width=\"24px\">\n",
              "    <path d=\"M0 0h24v24H0V0z\" fill=\"none\"/>\n",
              "    <path d=\"M18.56 5.44l.94 2.06.94-2.06 2.06-.94-2.06-.94-.94-2.06-.94 2.06-2.06.94zm-11 1L8.5 8.5l.94-2.06 2.06-.94-2.06-.94L8.5 2.5l-.94 2.06-2.06.94zm10 10l.94 2.06.94-2.06 2.06-.94-2.06-.94-.94-2.06-.94 2.06-2.06.94z\"/><path d=\"M17.41 7.96l-1.37-1.37c-.4-.4-.92-.59-1.43-.59-.52 0-1.04.2-1.43.59L10.3 9.45l-7.72 7.72c-.78.78-.78 2.05 0 2.83L4 21.41c.39.39.9.59 1.41.59.51 0 1.02-.2 1.41-.59l7.78-7.78 2.81-2.81c.8-.78.8-2.07 0-2.86zM5.41 20L4 18.59l7.72-7.72 1.47 1.35L5.41 20z\"/>\n",
              "  </svg>\n",
              "      </button>\n",
              "      \n",
              "  <style>\n",
              "    .colab-df-container {\n",
              "      display:flex;\n",
              "      flex-wrap:wrap;\n",
              "      gap: 12px;\n",
              "    }\n",
              "\n",
              "    .colab-df-convert {\n",
              "      background-color: #E8F0FE;\n",
              "      border: none;\n",
              "      border-radius: 50%;\n",
              "      cursor: pointer;\n",
              "      display: none;\n",
              "      fill: #1967D2;\n",
              "      height: 32px;\n",
              "      padding: 0 0 0 0;\n",
              "      width: 32px;\n",
              "    }\n",
              "\n",
              "    .colab-df-convert:hover {\n",
              "      background-color: #E2EBFA;\n",
              "      box-shadow: 0px 1px 2px rgba(60, 64, 67, 0.3), 0px 1px 3px 1px rgba(60, 64, 67, 0.15);\n",
              "      fill: #174EA6;\n",
              "    }\n",
              "\n",
              "    [theme=dark] .colab-df-convert {\n",
              "      background-color: #3B4455;\n",
              "      fill: #D2E3FC;\n",
              "    }\n",
              "\n",
              "    [theme=dark] .colab-df-convert:hover {\n",
              "      background-color: #434B5C;\n",
              "      box-shadow: 0px 1px 3px 1px rgba(0, 0, 0, 0.15);\n",
              "      filter: drop-shadow(0px 1px 2px rgba(0, 0, 0, 0.3));\n",
              "      fill: #FFFFFF;\n",
              "    }\n",
              "  </style>\n",
              "\n",
              "      <script>\n",
              "        const buttonEl =\n",
              "          document.querySelector('#df-2c2dbd4e-92ae-4313-97ee-4be14f9f0fd6 button.colab-df-convert');\n",
              "        buttonEl.style.display =\n",
              "          google.colab.kernel.accessAllowed ? 'block' : 'none';\n",
              "\n",
              "        async function convertToInteractive(key) {\n",
              "          const element = document.querySelector('#df-2c2dbd4e-92ae-4313-97ee-4be14f9f0fd6');\n",
              "          const dataTable =\n",
              "            await google.colab.kernel.invokeFunction('convertToInteractive',\n",
              "                                                     [key], {});\n",
              "          if (!dataTable) return;\n",
              "\n",
              "          const docLinkHtml = 'Like what you see? Visit the ' +\n",
              "            '<a target=\"_blank\" href=https://colab.research.google.com/notebooks/data_table.ipynb>data table notebook</a>'\n",
              "            + ' to learn more about interactive tables.';\n",
              "          element.innerHTML = '';\n",
              "          dataTable['output_type'] = 'display_data';\n",
              "          await google.colab.output.renderOutput(dataTable, element);\n",
              "          const docLink = document.createElement('div');\n",
              "          docLink.innerHTML = docLinkHtml;\n",
              "          element.appendChild(docLink);\n",
              "        }\n",
              "      </script>\n",
              "    </div>\n",
              "  </div>\n",
              "  "
            ]
          },
          "metadata": {},
          "execution_count": 10
        }
      ]
    },
    {
      "cell_type": "code",
      "source": [
        "'''\n",
        "--------------------------------------------------------------------------------\n",
        "IMPLEMENTATION\n",
        "'''"
      ],
      "metadata": {
        "colab": {
          "base_uri": "https://localhost:8080/",
          "height": 53
        },
        "id": "iyt_1Xg7cg1X",
        "outputId": "daf36014-f11c-4cda-f7ca-d6040a35353c"
      },
      "execution_count": 11,
      "outputs": [
        {
          "output_type": "execute_result",
          "data": {
            "text/plain": [
              "'\\n--------------------------------------------------------------------------------\\nIMPLEMENTATION\\n'"
            ],
            "application/vnd.google.colaboratory.intrinsic+json": {
              "type": "string"
            }
          },
          "metadata": {},
          "execution_count": 11
        }
      ]
    },
    {
      "cell_type": "code",
      "source": [
        "# Get X_train and y_train\n",
        "X_train = train_data.drop('meter_reading', axis = 1)\n",
        "y_train = train_data['meter_reading'].values"
      ],
      "metadata": {
        "id": "KVLutpqjcuoo"
      },
      "execution_count": 12,
      "outputs": []
    },
    {
      "cell_type": "code",
      "source": [
        "# Baseline model - solely useful for comparison against other (hopefully better) models\n",
        "def baselineModel(y_act, y_pred):\n",
        "  '''\n",
        "  Baseline score is computed from median value\n",
        "  '''\n",
        "\n",
        "  # Define root mean square error (RMSE)\n",
        "  rmsle_score = np.sqrt(np.mean((y_act - y_pred) * (y_act - y_pred)))\n",
        "  return 'RMSE score of baseline model is {}'.format(rmsle_score)\n",
        "\n",
        "print(baselineModel(y_train, np.median(y_train)))"
      ],
      "metadata": {
        "colab": {
          "base_uri": "https://localhost:8080/"
        },
        "id": "c1Zd0bRBc89N",
        "outputId": "fb686528-75cb-4169-ec32-702cb3448680"
      },
      "execution_count": 13,
      "outputs": [
        {
          "output_type": "stream",
          "name": "stdout",
          "text": [
            "RMSE score of baseline model is 1.7724609375\n"
          ]
        }
      ]
    },
    {
      "cell_type": "code",
      "source": [
        " # Split data for test and train\n",
        "train_x, test_x, train_y, test_y = train_test_split(X_train, y_train, test_size = 0.2, random_state = 42)"
      ],
      "metadata": {
        "id": "kg6RBUbBdfkb"
      },
      "execution_count": 14,
      "outputs": []
    },
    {
      "cell_type": "code",
      "source": [
        "# Define RMSLE\n",
        "def RMSLE(y_act, y_pred):\n",
        "  return np.sqrt(mean_squared_error(y_act, y_pred))"
      ],
      "metadata": {
        "id": "ylZ7Sm-ieWrf"
      },
      "execution_count": 15,
      "outputs": []
    },
    {
      "cell_type": "code",
      "source": [
        "# Define RMSLE specifically for neural network\n",
        "from keras import backend as k\n",
        "def NN_RMSLE(y_act, y_pred):\n",
        "  return k.sqrt(k.mean(k.square(y_pred - y_act)))"
      ],
      "metadata": {
        "id": "kBX5P0Phedaw"
      },
      "execution_count": 16,
      "outputs": []
    },
    {
      "cell_type": "code",
      "source": [
        "# Split into train and validation sets\n",
        "train_xx, val_xx, train_yy, val_yy = train_test_split(train_x, train_y, test_size = 0.2, random_state = 42)"
      ],
      "metadata": {
        "id": "vV-tpC9pfegY"
      },
      "execution_count": 17,
      "outputs": []
    },
    {
      "cell_type": "code",
      "source": [
        "# Define model\n",
        "from keras.callbacks import EarlyStopping\n",
        "\n",
        "model = Sequential()\n",
        "\n",
        "early_stop = EarlyStopping(monitor = 'val_loss', mode = 'min', patience = 3)\n",
        "\n",
        "# Add layers, etc\n",
        "model.add(layers.Dense(512, activation = 'relu', input_shape = (train_xx.shape[1], )))\n",
        "model.add(Dense(1, activation = 'linear'))\n",
        "model.compile(optimizer = 'adam', loss = NN_RMSLE)\n",
        "\n",
        "# Fit model\n",
        "model.fit(train_xx, train_yy, epochs = 100, batch_size = 2048, validation_data = (val_xx, val_yy), callbacks = early_stop)"
      ],
      "metadata": {
        "colab": {
          "base_uri": "https://localhost:8080/"
        },
        "id": "RYmbYNuvfonA",
        "outputId": "e1472a59-09a3-4e58-cd8f-5f2f83f3f4c8"
      },
      "execution_count": 49,
      "outputs": [
        {
          "output_type": "stream",
          "name": "stdout",
          "text": [
            "Epoch 1/100\n",
            "5732/5732 [==============================] - 53s 9ms/step - loss: 1.5518 - val_loss: 1.3430\n",
            "Epoch 2/100\n",
            "5732/5732 [==============================] - 53s 9ms/step - loss: 1.3737 - val_loss: 1.3808\n",
            "Epoch 3/100\n",
            "5732/5732 [==============================] - 52s 9ms/step - loss: 1.3195 - val_loss: 1.2302\n",
            "Epoch 4/100\n",
            "5732/5732 [==============================] - 52s 9ms/step - loss: 1.2713 - val_loss: 1.1932\n",
            "Epoch 5/100\n",
            "5732/5732 [==============================] - 52s 9ms/step - loss: 1.2420 - val_loss: 1.1805\n",
            "Epoch 6/100\n",
            "5732/5732 [==============================] - 52s 9ms/step - loss: 1.2226 - val_loss: 1.2099\n",
            "Epoch 7/100\n",
            "5732/5732 [==============================] - 50s 9ms/step - loss: 1.2089 - val_loss: 1.1466\n",
            "Epoch 8/100\n",
            "5732/5732 [==============================] - 51s 9ms/step - loss: 1.1951 - val_loss: 1.1468\n",
            "Epoch 9/100\n",
            "5732/5732 [==============================] - 50s 9ms/step - loss: 1.1817 - val_loss: 1.3713\n",
            "Epoch 10/100\n",
            "5732/5732 [==============================] - 51s 9ms/step - loss: 1.1724 - val_loss: 1.1448\n",
            "Epoch 11/100\n",
            "5732/5732 [==============================] - 50s 9ms/step - loss: 1.1639 - val_loss: 1.1257\n",
            "Epoch 12/100\n",
            "5732/5732 [==============================] - 50s 9ms/step - loss: 1.1569 - val_loss: 1.3536\n",
            "Epoch 13/100\n",
            "5732/5732 [==============================] - 52s 9ms/step - loss: 1.1533 - val_loss: 1.1214\n",
            "Epoch 14/100\n",
            "5732/5732 [==============================] - 53s 9ms/step - loss: 1.1473 - val_loss: 1.1332\n",
            "Epoch 15/100\n",
            "5732/5732 [==============================] - 51s 9ms/step - loss: 1.1429 - val_loss: 1.1184\n",
            "Epoch 16/100\n",
            "5732/5732 [==============================] - 52s 9ms/step - loss: 1.1382 - val_loss: 1.1130\n",
            "Epoch 17/100\n",
            "5732/5732 [==============================] - 53s 9ms/step - loss: 1.1365 - val_loss: 1.1451\n",
            "Epoch 18/100\n",
            "5732/5732 [==============================] - 52s 9ms/step - loss: 1.1318 - val_loss: 1.1173\n",
            "Epoch 19/100\n",
            "5732/5732 [==============================] - 52s 9ms/step - loss: 1.1283 - val_loss: 1.1107\n",
            "Epoch 20/100\n",
            "5732/5732 [==============================] - 51s 9ms/step - loss: 1.1253 - val_loss: 1.1492\n",
            "Epoch 21/100\n",
            "5732/5732 [==============================] - 52s 9ms/step - loss: 1.1229 - val_loss: 1.1285\n",
            "Epoch 22/100\n",
            "5732/5732 [==============================] - 54s 9ms/step - loss: 1.1207 - val_loss: 1.1135\n"
          ]
        },
        {
          "output_type": "execute_result",
          "data": {
            "text/plain": [
              "<keras.callbacks.History at 0x7fdb683c6ad0>"
            ]
          },
          "metadata": {},
          "execution_count": 49
        }
      ]
    },
    {
      "cell_type": "code",
      "source": [
        "print('Neural Network Training RMSLE: {}'.format(model.evaluate(train_x, train_y, verbose = 0)))\n",
        "print('Neural Network Testing RMSLE: {}'.format(model.evaluate(test_x, test_y, verbose = 0)))"
      ],
      "metadata": {
        "colab": {
          "base_uri": "https://localhost:8080/"
        },
        "id": "o3q_W6-nijuh",
        "outputId": "549b865c-aacb-4d3f-f47e-8f139f93a4de"
      },
      "execution_count": 50,
      "outputs": [
        {
          "output_type": "stream",
          "name": "stdout",
          "text": [
            "Neural Network Training RMSLE: 1.0909289121627808\n",
            "Neural Network Testing RMSLE: 1.0917843580245972\n"
          ]
        }
      ]
    },
    {
      "cell_type": "code",
      "source": [
        "# Use model to make a prediction \n",
        "prediction = model.predict(test_data)"
      ],
      "metadata": {
        "id": "spax8bwjlTFp"
      },
      "execution_count": 51,
      "outputs": []
    },
    {
      "cell_type": "code",
      "source": [
        "prediction"
      ],
      "metadata": {
        "colab": {
          "base_uri": "https://localhost:8080/"
        },
        "id": "ihbXW9nXqMgL",
        "outputId": "a59020d4-3d3e-42c2-a9b1-184b7d95564d"
      },
      "execution_count": 52,
      "outputs": [
        {
          "output_type": "execute_result",
          "data": {
            "text/plain": [
              "array([[0.9350722 ],\n",
              "       [0.21203923],\n",
              "       [0.9306054 ],\n",
              "       ...,\n",
              "       [1.7016139 ],\n",
              "       [3.4919171 ],\n",
              "       [4.3557076 ]], dtype=float32)"
            ]
          },
          "metadata": {},
          "execution_count": 52
        }
      ]
    },
    {
      "cell_type": "code",
      "source": [
        "# Inspect prediction\n",
        "prediction_flat = prediction.flatten()\n",
        "len(prediction_flat)"
      ],
      "metadata": {
        "id": "m8f8TRtMqUny",
        "colab": {
          "base_uri": "https://localhost:8080/"
        },
        "outputId": "39bcb54a-db7f-49a4-acba-07bc543c824e"
      },
      "execution_count": 23,
      "outputs": [
        {
          "output_type": "execute_result",
          "data": {
            "text/plain": [
              "41697600"
            ]
          },
          "metadata": {},
          "execution_count": 23
        }
      ]
    },
    {
      "cell_type": "code",
      "source": [
        "row_id = (np.arange(0, len(prediction_flat))).astype(np.int32)"
      ],
      "metadata": {
        "id": "zwg_uhztF_K7"
      },
      "execution_count": 53,
      "outputs": []
    },
    {
      "cell_type": "code",
      "source": [
        "len(row_id)"
      ],
      "metadata": {
        "colab": {
          "base_uri": "https://localhost:8080/"
        },
        "id": "VZdDHknCO4fO",
        "outputId": "ec95ccb7-2ed6-4c2e-f32f-15136698c1f5"
      },
      "execution_count": 54,
      "outputs": [
        {
          "output_type": "execute_result",
          "data": {
            "text/plain": [
              "41697600"
            ]
          },
          "metadata": {},
          "execution_count": 54
        }
      ]
    },
    {
      "cell_type": "code",
      "source": [
        "#df = pd.DataFrame({'row_id':row_id, 'meter_reading':prediction_flat})"
      ],
      "metadata": {
        "id": "8aFk98BjGNS8"
      },
      "execution_count": 25,
      "outputs": []
    },
    {
      "cell_type": "code",
      "source": [
        "#df.to_csv('/content/drive/My Drive/RNN_prediction.csv', index = False)"
      ],
      "metadata": {
        "id": "uY5XBppYGc38"
      },
      "execution_count": 29,
      "outputs": []
    },
    {
      "cell_type": "code",
      "source": [
        "#df.head()"
      ],
      "metadata": {
        "colab": {
          "base_uri": "https://localhost:8080/",
          "height": 206
        },
        "id": "Oir_LHGPKk2I",
        "outputId": "c050ac53-1012-4246-cb70-cef67f5be860"
      },
      "execution_count": 30,
      "outputs": [
        {
          "output_type": "execute_result",
          "data": {
            "text/plain": [
              "   row_id  meter_reading\n",
              "0     0.0       1.611253\n",
              "1     1.0       1.030314\n",
              "2     2.0       1.039640\n",
              "3     3.0       1.439468\n",
              "4     4.0       1.781921"
            ],
            "text/html": [
              "\n",
              "  <div id=\"df-7f8ad082-e82a-478d-a84a-fe95e54d8a6e\">\n",
              "    <div class=\"colab-df-container\">\n",
              "      <div>\n",
              "<style scoped>\n",
              "    .dataframe tbody tr th:only-of-type {\n",
              "        vertical-align: middle;\n",
              "    }\n",
              "\n",
              "    .dataframe tbody tr th {\n",
              "        vertical-align: top;\n",
              "    }\n",
              "\n",
              "    .dataframe thead th {\n",
              "        text-align: right;\n",
              "    }\n",
              "</style>\n",
              "<table border=\"1\" class=\"dataframe\">\n",
              "  <thead>\n",
              "    <tr style=\"text-align: right;\">\n",
              "      <th></th>\n",
              "      <th>row_id</th>\n",
              "      <th>meter_reading</th>\n",
              "    </tr>\n",
              "  </thead>\n",
              "  <tbody>\n",
              "    <tr>\n",
              "      <th>0</th>\n",
              "      <td>0.0</td>\n",
              "      <td>1.611253</td>\n",
              "    </tr>\n",
              "    <tr>\n",
              "      <th>1</th>\n",
              "      <td>1.0</td>\n",
              "      <td>1.030314</td>\n",
              "    </tr>\n",
              "    <tr>\n",
              "      <th>2</th>\n",
              "      <td>2.0</td>\n",
              "      <td>1.039640</td>\n",
              "    </tr>\n",
              "    <tr>\n",
              "      <th>3</th>\n",
              "      <td>3.0</td>\n",
              "      <td>1.439468</td>\n",
              "    </tr>\n",
              "    <tr>\n",
              "      <th>4</th>\n",
              "      <td>4.0</td>\n",
              "      <td>1.781921</td>\n",
              "    </tr>\n",
              "  </tbody>\n",
              "</table>\n",
              "</div>\n",
              "      <button class=\"colab-df-convert\" onclick=\"convertToInteractive('df-7f8ad082-e82a-478d-a84a-fe95e54d8a6e')\"\n",
              "              title=\"Convert this dataframe to an interactive table.\"\n",
              "              style=\"display:none;\">\n",
              "        \n",
              "  <svg xmlns=\"http://www.w3.org/2000/svg\" height=\"24px\"viewBox=\"0 0 24 24\"\n",
              "       width=\"24px\">\n",
              "    <path d=\"M0 0h24v24H0V0z\" fill=\"none\"/>\n",
              "    <path d=\"M18.56 5.44l.94 2.06.94-2.06 2.06-.94-2.06-.94-.94-2.06-.94 2.06-2.06.94zm-11 1L8.5 8.5l.94-2.06 2.06-.94-2.06-.94L8.5 2.5l-.94 2.06-2.06.94zm10 10l.94 2.06.94-2.06 2.06-.94-2.06-.94-.94-2.06-.94 2.06-2.06.94z\"/><path d=\"M17.41 7.96l-1.37-1.37c-.4-.4-.92-.59-1.43-.59-.52 0-1.04.2-1.43.59L10.3 9.45l-7.72 7.72c-.78.78-.78 2.05 0 2.83L4 21.41c.39.39.9.59 1.41.59.51 0 1.02-.2 1.41-.59l7.78-7.78 2.81-2.81c.8-.78.8-2.07 0-2.86zM5.41 20L4 18.59l7.72-7.72 1.47 1.35L5.41 20z\"/>\n",
              "  </svg>\n",
              "      </button>\n",
              "      \n",
              "  <style>\n",
              "    .colab-df-container {\n",
              "      display:flex;\n",
              "      flex-wrap:wrap;\n",
              "      gap: 12px;\n",
              "    }\n",
              "\n",
              "    .colab-df-convert {\n",
              "      background-color: #E8F0FE;\n",
              "      border: none;\n",
              "      border-radius: 50%;\n",
              "      cursor: pointer;\n",
              "      display: none;\n",
              "      fill: #1967D2;\n",
              "      height: 32px;\n",
              "      padding: 0 0 0 0;\n",
              "      width: 32px;\n",
              "    }\n",
              "\n",
              "    .colab-df-convert:hover {\n",
              "      background-color: #E2EBFA;\n",
              "      box-shadow: 0px 1px 2px rgba(60, 64, 67, 0.3), 0px 1px 3px 1px rgba(60, 64, 67, 0.15);\n",
              "      fill: #174EA6;\n",
              "    }\n",
              "\n",
              "    [theme=dark] .colab-df-convert {\n",
              "      background-color: #3B4455;\n",
              "      fill: #D2E3FC;\n",
              "    }\n",
              "\n",
              "    [theme=dark] .colab-df-convert:hover {\n",
              "      background-color: #434B5C;\n",
              "      box-shadow: 0px 1px 3px 1px rgba(0, 0, 0, 0.15);\n",
              "      filter: drop-shadow(0px 1px 2px rgba(0, 0, 0, 0.3));\n",
              "      fill: #FFFFFF;\n",
              "    }\n",
              "  </style>\n",
              "\n",
              "      <script>\n",
              "        const buttonEl =\n",
              "          document.querySelector('#df-7f8ad082-e82a-478d-a84a-fe95e54d8a6e button.colab-df-convert');\n",
              "        buttonEl.style.display =\n",
              "          google.colab.kernel.accessAllowed ? 'block' : 'none';\n",
              "\n",
              "        async function convertToInteractive(key) {\n",
              "          const element = document.querySelector('#df-7f8ad082-e82a-478d-a84a-fe95e54d8a6e');\n",
              "          const dataTable =\n",
              "            await google.colab.kernel.invokeFunction('convertToInteractive',\n",
              "                                                     [key], {});\n",
              "          if (!dataTable) return;\n",
              "\n",
              "          const docLinkHtml = 'Like what you see? Visit the ' +\n",
              "            '<a target=\"_blank\" href=https://colab.research.google.com/notebooks/data_table.ipynb>data table notebook</a>'\n",
              "            + ' to learn more about interactive tables.';\n",
              "          element.innerHTML = '';\n",
              "          dataTable['output_type'] = 'display_data';\n",
              "          await google.colab.output.renderOutput(dataTable, element);\n",
              "          const docLink = document.createElement('div');\n",
              "          docLink.innerHTML = docLinkHtml;\n",
              "          element.appendChild(docLink);\n",
              "        }\n",
              "      </script>\n",
              "    </div>\n",
              "  </div>\n",
              "  "
            ]
          },
          "metadata": {},
          "execution_count": 30
        }
      ]
    },
    {
      "cell_type": "code",
      "source": [
        "df_2 = pd.DataFrame({'row_id': row_id, 'meter_reading':np.expm1(prediction_flat)})"
      ],
      "metadata": {
        "id": "f8pP7Rf_MGuG"
      },
      "execution_count": 55,
      "outputs": []
    },
    {
      "cell_type": "code",
      "source": [
        "df_2.to_csv('/content/drive/My Drive/RNN_prediction_expm1.csv', index = False)"
      ],
      "metadata": {
        "id": "F-I09H1CMgyt"
      },
      "execution_count": 56,
      "outputs": []
    }
  ]
}