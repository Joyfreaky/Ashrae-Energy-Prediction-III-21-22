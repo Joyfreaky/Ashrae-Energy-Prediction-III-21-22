{
  "nbformat": 4,
  "nbformat_minor": 0,
  "metadata": {
    "colab": {
      "name": "BaselineMeasure.ipynb",
      "provenance": [],
      "collapsed_sections": []
    },
    "kernelspec": {
      "name": "python3",
      "display_name": "Python 3"
    },
    "language_info": {
      "name": "python"
    }
  },
  "cells": [
    {
      "cell_type": "code",
      "source": [
        "import numpy as np\n",
        "import pandas as pd"
      ],
      "metadata": {
        "id": "k8nDj-83ClEf"
      },
      "execution_count": 1,
      "outputs": []
    },
    {
      "cell_type": "code",
      "execution_count": 2,
      "metadata": {
        "colab": {
          "base_uri": "https://localhost:8080/"
        },
        "id": "tUrPhdA6CXy-",
        "outputId": "92f48a5e-d24a-4aac-80f8-8ad56b895e44"
      },
      "outputs": [
        {
          "output_type": "stream",
          "name": "stdout",
          "text": [
            "Mounted at /content/drive\n"
          ]
        }
      ],
      "source": [
        "# Get PROCESSED train data from drive \n",
        "from google.colab import drive\n",
        "drive.mount('/content/drive', force_remount = True)\n",
        "train_data = pd.read_feather('/content/drive/My Drive/training_data_processed_feather.feather')"
      ]
    },
    {
      "cell_type": "code",
      "source": [
        "# Get PROCESSED test data from drive\n",
        "test_data = pd.read_feather('/content/drive/My Drive/testing_data_processed_feather.feather')"
      ],
      "metadata": {
        "id": "Jk3P6-7tCaKf"
      },
      "execution_count": 3,
      "outputs": []
    },
    {
      "cell_type": "code",
      "source": [
        "# Convert training data back to CSV file\n",
        "train_data.to_csv('train_data', index = False)"
      ],
      "metadata": {
        "id": "Um0yqrLCCeQH"
      },
      "execution_count": 4,
      "outputs": []
    },
    {
      "cell_type": "code",
      "source": [
        "# Convert testing data back to CSV file\n",
        "test_data.to_csv('test_data', index = False)"
      ],
      "metadata": {
        "id": "6wcYiVt0CfWP"
      },
      "execution_count": 5,
      "outputs": []
    },
    {
      "cell_type": "code",
      "source": [
        "# Drop index columns\n",
        "train_data = train_data.drop('index', axis = 1, errors = 'ignore')\n",
        "test_data = test_data.drop('index', axis = 1, errors = 'ignore')"
      ],
      "metadata": {
        "id": "5VgxbVjVCg-O"
      },
      "execution_count": 6,
      "outputs": []
    },
    {
      "cell_type": "code",
      "source": [
        "def baselineModel(y_actual,y_pred):\n",
        "\n",
        "    rmsle_score = np.sqrt(np.mean((y_actual - y_pred) * (y_actual-y_pred)))\n",
        "    \n",
        "    print(\"The RMSLE Score of the Baseline Model is :\",rmsle_score)\n",
        "\n",
        "baselineModel(train_data['meter_reading'].values, np.median(train_data['meter_reading'].values))"
      ],
      "metadata": {
        "colab": {
          "base_uri": "https://localhost:8080/"
        },
        "id": "lojr11KYCj_w",
        "outputId": "6bf8a28c-cea0-42c6-aa5c-9cbc2045d1e8"
      },
      "execution_count": 8,
      "outputs": [
        {
          "output_type": "stream",
          "name": "stdout",
          "text": [
            "The RMSLE Score of the Baseline Model is : 1.772\n"
          ]
        }
      ]
    },
    {
      "cell_type": "code",
      "source": [
        "# Generate baseline values\n",
        "y_pred = np.median(train_data['meter_reading'].values)\n",
        "y_pred"
      ],
      "metadata": {
        "colab": {
          "base_uri": "https://localhost:8080/"
        },
        "id": "ZnnfJxz3Ket5",
        "outputId": "1625aed3-f106-4ceb-d7c4-1f14ecb4007a"
      },
      "execution_count": 11,
      "outputs": [
        {
          "output_type": "execute_result",
          "data": {
            "text/plain": [
              "4.594"
            ]
          },
          "metadata": {},
          "execution_count": 11
        }
      ]
    },
    {
      "cell_type": "code",
      "source": [
        "# Create row_id column for Kaggle submission\n",
        "row_id = (np.arange(0, 41697600)).astype(np.int32)"
      ],
      "metadata": {
        "id": "XR1hKBRKKnnI"
      },
      "execution_count": 17,
      "outputs": []
    },
    {
      "cell_type": "code",
      "source": [
        "# Check type and length\n",
        "print('Type: {}'.format(type(row_id[0])))\n",
        "print('Len: {}'.format(len(row_id)))"
      ],
      "metadata": {
        "colab": {
          "base_uri": "https://localhost:8080/"
        },
        "id": "ZY4W70vkLXbx",
        "outputId": "499f0891-df70-4c3c-f28d-c7251b2db990"
      },
      "execution_count": 18,
      "outputs": [
        {
          "output_type": "stream",
          "name": "stdout",
          "text": [
            "Type: <class 'numpy.int32'>\n",
            "Len: 41697600\n"
          ]
        }
      ]
    },
    {
      "cell_type": "code",
      "source": [
        "df_2 = pd.DataFrame({'row_id': row_id, 'meter_reading': y_pred})"
      ],
      "metadata": {
        "id": "4LeN2F5DLjK4"
      },
      "execution_count": 19,
      "outputs": []
    },
    {
      "cell_type": "code",
      "source": [
        "df_2.to_csv('/content/drive/My Drive/baseline_prediction.csv', index = False)"
      ],
      "metadata": {
        "id": "CSu6SBVdLq-g"
      },
      "execution_count": 20,
      "outputs": []
    }
  ]
}