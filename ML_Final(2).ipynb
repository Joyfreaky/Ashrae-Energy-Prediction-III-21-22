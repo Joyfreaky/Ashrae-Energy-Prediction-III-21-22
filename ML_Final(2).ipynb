{
  "cells": [
    {
      "cell_type": "code",
      "execution_count": null,
      "metadata": {
        "id": "tT3oRvEFUtYK"
      },
      "outputs": [],
      "source": [
        "# Energy prediction 3 (ASHRAE)\n",
        "# Imports/Formatting\n",
        "%matplotlib inline\n",
        "\n",
        "import pandas as pd\n",
        "import numpy as np\n",
        "import matplotlib.pyplot as plt\n",
        "\n",
        "from sklearn import utils\n",
        "from sklearn.model_selection import train_test_split\n",
        "from sklearn.metrics import mean_squared_error\n",
        "from sklearn.model_selection import cross_val_score\n",
        "from tensorflow import keras\n",
        "\n",
        "\n",
        "import warnings\n",
        "warnings.filterwarnings('ignore')\n"
      ]
    },
    {
      "cell_type": "code",
      "execution_count": null,
      "metadata": {
        "colab": {
          "base_uri": "https://localhost:8080/",
          "height": 53
        },
        "id": "O8SKES0Aasbf",
        "outputId": "3ba2c58f-69af-4bfe-de3a-11a0d219ed00"
      },
      "outputs": [
        {
          "data": {
            "application/vnd.google.colaboratory.intrinsic+json": {
              "type": "string"
            },
            "text/plain": [
              "'\\nREADME\\nWith getting processed data, this programme reads in as feather, and then converts\\nit to CSV. Google colab RAM cannot handle reading them both in as CSV.\\n'"
            ]
          },
          "execution_count": 2,
          "metadata": {},
          "output_type": "execute_result"
        }
      ],
      "source": [
        "'''\n",
        "README\n",
        "With getting processed data, this programme reads in as feather, and then converts\n",
        "it to CSV. Google colab RAM cannot handle reading them both in as CSV.\n",
        "'''"
      ]
    },
    {
      "cell_type": "code",
      "execution_count": null,
      "metadata": {
        "colab": {
          "base_uri": "https://localhost:8080/"
        },
        "id": "vqW0zlmqU3Kt",
        "outputId": "99de06fb-f96a-4ca9-e0d4-ca619c677ed0"
      },
      "outputs": [
        {
          "name": "stdout",
          "output_type": "stream",
          "text": [
            "Mounted at /content/drive\n"
          ]
        }
      ],
      "source": [
        "# Get PROCESSED train data from drive \n",
        "from google.colab import drive\n",
        "drive.mount('/content/drive', force_remount = True)\n",
        "train_data = pd.read_feather('/content/drive/My Drive/training_data_processed_feather.feather')"
      ]
    },
    {
      "cell_type": "code",
      "execution_count": null,
      "metadata": {
        "id": "x9ZAD76jU6Hs"
      },
      "outputs": [],
      "source": [
        "# Get PROCESSED test data from drive\n",
        "test_data = pd.read_feather('/content/drive/My Drive/testing_data_processed_feather.feather')"
      ]
    },
    {
      "cell_type": "code",
      "execution_count": null,
      "metadata": {
        "id": "wBf2VCYoX3u_"
      },
      "outputs": [],
      "source": [
        "# Convert training data back to CSV file\n",
        "train_data.to_csv('train_data', index = False)"
      ]
    },
    {
      "cell_type": "code",
      "execution_count": null,
      "metadata": {
        "id": "DO47A-NRZnKP"
      },
      "outputs": [],
      "source": [
        "# Convert testing data back to CSV file\n",
        "test_data.to_csv('test_data', index = False)"
      ]
    },
    {
      "cell_type": "code",
      "execution_count": null,
      "metadata": {
        "colab": {
          "base_uri": "https://localhost:8080/"
        },
        "id": "1zv31UIyYv5e",
        "outputId": "87e52363-4e94-4ce3-d3b5-9a05fae97f6a"
      },
      "outputs": [
        {
          "name": "stdout",
          "output_type": "stream",
          "text": [
            "Type of train_data:  <class 'pandas.core.frame.DataFrame'>\n",
            "Type of test_data:  <class 'pandas.core.frame.DataFrame'>\n"
          ]
        }
      ],
      "source": [
        "# Check type\n",
        "print('Type of train_data: ', type(train_data))\n",
        "print('Type of test_data: ', type(test_data))"
      ]
    },
    {
      "cell_type": "code",
      "execution_count": null,
      "metadata": {
        "id": "2GACBb_qaj-v"
      },
      "outputs": [],
      "source": [
        "# Drop index columns\n",
        "train_data = train_data.drop('index', axis = 1, errors = 'ignore')\n",
        "test_data = test_data.drop('index', axis = 1, errors = 'ignore')"
      ]
    },
    {
      "cell_type": "code",
      "execution_count": null,
      "metadata": {
        "colab": {
          "base_uri": "https://localhost:8080/",
          "height": 270
        },
        "id": "V7oOvF9ia5_4",
        "outputId": "8838ba88-4017-4edc-957b-a0dbeca42376"
      },
      "outputs": [
        {
          "data": {
            "text/html": [
              "\n",
              "  <div id=\"df-c720c889-3810-47fd-8816-7d6624e72ec3\">\n",
              "    <div class=\"colab-df-container\">\n",
              "      <div>\n",
              "<style scoped>\n",
              "    .dataframe tbody tr th:only-of-type {\n",
              "        vertical-align: middle;\n",
              "    }\n",
              "\n",
              "    .dataframe tbody tr th {\n",
              "        vertical-align: top;\n",
              "    }\n",
              "\n",
              "    .dataframe thead th {\n",
              "        text-align: right;\n",
              "    }\n",
              "</style>\n",
              "<table border=\"1\" class=\"dataframe\">\n",
              "  <thead>\n",
              "    <tr style=\"text-align: right;\">\n",
              "      <th></th>\n",
              "      <th>building_id</th>\n",
              "      <th>square_feet</th>\n",
              "      <th>primary_use</th>\n",
              "      <th>meter</th>\n",
              "      <th>air_temperature</th>\n",
              "      <th>day_of_year</th>\n",
              "      <th>hour</th>\n",
              "      <th>isDayTime</th>\n",
              "      <th>day_of_week</th>\n",
              "      <th>meter_reading</th>\n",
              "    </tr>\n",
              "  </thead>\n",
              "  <tbody>\n",
              "    <tr>\n",
              "      <th>0</th>\n",
              "      <td>46</td>\n",
              "      <td>9.109375</td>\n",
              "      <td>11</td>\n",
              "      <td>0</td>\n",
              "      <td>25.000000</td>\n",
              "      <td>1.0</td>\n",
              "      <td>0.0</td>\n",
              "      <td>0</td>\n",
              "      <td>4.0</td>\n",
              "      <td>3.994141</td>\n",
              "    </tr>\n",
              "    <tr>\n",
              "      <th>1</th>\n",
              "      <td>74</td>\n",
              "      <td>12.867188</td>\n",
              "      <td>8</td>\n",
              "      <td>0</td>\n",
              "      <td>25.000000</td>\n",
              "      <td>1.0</td>\n",
              "      <td>0.0</td>\n",
              "      <td>0</td>\n",
              "      <td>4.0</td>\n",
              "      <td>3.785156</td>\n",
              "    </tr>\n",
              "    <tr>\n",
              "      <th>2</th>\n",
              "      <td>93</td>\n",
              "      <td>10.414062</td>\n",
              "      <td>6</td>\n",
              "      <td>0</td>\n",
              "      <td>25.000000</td>\n",
              "      <td>1.0</td>\n",
              "      <td>0.0</td>\n",
              "      <td>0</td>\n",
              "      <td>4.0</td>\n",
              "      <td>3.978516</td>\n",
              "    </tr>\n",
              "    <tr>\n",
              "      <th>3</th>\n",
              "      <td>105</td>\n",
              "      <td>10.835938</td>\n",
              "      <td>0</td>\n",
              "      <td>0</td>\n",
              "      <td>3.800781</td>\n",
              "      <td>1.0</td>\n",
              "      <td>0.0</td>\n",
              "      <td>0</td>\n",
              "      <td>4.0</td>\n",
              "      <td>3.191406</td>\n",
              "    </tr>\n",
              "    <tr>\n",
              "      <th>4</th>\n",
              "      <td>106</td>\n",
              "      <td>8.585938</td>\n",
              "      <td>0</td>\n",
              "      <td>0</td>\n",
              "      <td>3.800781</td>\n",
              "      <td>1.0</td>\n",
              "      <td>0.0</td>\n",
              "      <td>0</td>\n",
              "      <td>4.0</td>\n",
              "      <td>0.318115</td>\n",
              "    </tr>\n",
              "  </tbody>\n",
              "</table>\n",
              "</div>\n",
              "      <button class=\"colab-df-convert\" onclick=\"convertToInteractive('df-c720c889-3810-47fd-8816-7d6624e72ec3')\"\n",
              "              title=\"Convert this dataframe to an interactive table.\"\n",
              "              style=\"display:none;\">\n",
              "        \n",
              "  <svg xmlns=\"http://www.w3.org/2000/svg\" height=\"24px\"viewBox=\"0 0 24 24\"\n",
              "       width=\"24px\">\n",
              "    <path d=\"M0 0h24v24H0V0z\" fill=\"none\"/>\n",
              "    <path d=\"M18.56 5.44l.94 2.06.94-2.06 2.06-.94-2.06-.94-.94-2.06-.94 2.06-2.06.94zm-11 1L8.5 8.5l.94-2.06 2.06-.94-2.06-.94L8.5 2.5l-.94 2.06-2.06.94zm10 10l.94 2.06.94-2.06 2.06-.94-2.06-.94-.94-2.06-.94 2.06-2.06.94z\"/><path d=\"M17.41 7.96l-1.37-1.37c-.4-.4-.92-.59-1.43-.59-.52 0-1.04.2-1.43.59L10.3 9.45l-7.72 7.72c-.78.78-.78 2.05 0 2.83L4 21.41c.39.39.9.59 1.41.59.51 0 1.02-.2 1.41-.59l7.78-7.78 2.81-2.81c.8-.78.8-2.07 0-2.86zM5.41 20L4 18.59l7.72-7.72 1.47 1.35L5.41 20z\"/>\n",
              "  </svg>\n",
              "      </button>\n",
              "      \n",
              "  <style>\n",
              "    .colab-df-container {\n",
              "      display:flex;\n",
              "      flex-wrap:wrap;\n",
              "      gap: 12px;\n",
              "    }\n",
              "\n",
              "    .colab-df-convert {\n",
              "      background-color: #E8F0FE;\n",
              "      border: none;\n",
              "      border-radius: 50%;\n",
              "      cursor: pointer;\n",
              "      display: none;\n",
              "      fill: #1967D2;\n",
              "      height: 32px;\n",
              "      padding: 0 0 0 0;\n",
              "      width: 32px;\n",
              "    }\n",
              "\n",
              "    .colab-df-convert:hover {\n",
              "      background-color: #E2EBFA;\n",
              "      box-shadow: 0px 1px 2px rgba(60, 64, 67, 0.3), 0px 1px 3px 1px rgba(60, 64, 67, 0.15);\n",
              "      fill: #174EA6;\n",
              "    }\n",
              "\n",
              "    [theme=dark] .colab-df-convert {\n",
              "      background-color: #3B4455;\n",
              "      fill: #D2E3FC;\n",
              "    }\n",
              "\n",
              "    [theme=dark] .colab-df-convert:hover {\n",
              "      background-color: #434B5C;\n",
              "      box-shadow: 0px 1px 3px 1px rgba(0, 0, 0, 0.15);\n",
              "      filter: drop-shadow(0px 1px 2px rgba(0, 0, 0, 0.3));\n",
              "      fill: #FFFFFF;\n",
              "    }\n",
              "  </style>\n",
              "\n",
              "      <script>\n",
              "        const buttonEl =\n",
              "          document.querySelector('#df-c720c889-3810-47fd-8816-7d6624e72ec3 button.colab-df-convert');\n",
              "        buttonEl.style.display =\n",
              "          google.colab.kernel.accessAllowed ? 'block' : 'none';\n",
              "\n",
              "        async function convertToInteractive(key) {\n",
              "          const element = document.querySelector('#df-c720c889-3810-47fd-8816-7d6624e72ec3');\n",
              "          const dataTable =\n",
              "            await google.colab.kernel.invokeFunction('convertToInteractive',\n",
              "                                                     [key], {});\n",
              "          if (!dataTable) return;\n",
              "\n",
              "          const docLinkHtml = 'Like what you see? Visit the ' +\n",
              "            '<a target=\"_blank\" href=https://colab.research.google.com/notebooks/data_table.ipynb>data table notebook</a>'\n",
              "            + ' to learn more about interactive tables.';\n",
              "          element.innerHTML = '';\n",
              "          dataTable['output_type'] = 'display_data';\n",
              "          await google.colab.output.renderOutput(dataTable, element);\n",
              "          const docLink = document.createElement('div');\n",
              "          docLink.innerHTML = docLinkHtml;\n",
              "          element.appendChild(docLink);\n",
              "        }\n",
              "      </script>\n",
              "    </div>\n",
              "  </div>\n",
              "  "
            ],
            "text/plain": [
              "   building_id  square_feet  primary_use  meter  air_temperature  day_of_year  \\\n",
              "0           46     9.109375           11      0        25.000000          1.0   \n",
              "1           74    12.867188            8      0        25.000000          1.0   \n",
              "2           93    10.414062            6      0        25.000000          1.0   \n",
              "3          105    10.835938            0      0         3.800781          1.0   \n",
              "4          106     8.585938            0      0         3.800781          1.0   \n",
              "\n",
              "   hour  isDayTime  day_of_week  meter_reading  \n",
              "0   0.0          0          4.0       3.994141  \n",
              "1   0.0          0          4.0       3.785156  \n",
              "2   0.0          0          4.0       3.978516  \n",
              "3   0.0          0          4.0       3.191406  \n",
              "4   0.0          0          4.0       0.318115  "
            ]
          },
          "execution_count": 9,
          "metadata": {},
          "output_type": "execute_result"
        }
      ],
      "source": [
        "# Inspect train_data\n",
        "train_data.head()"
      ]
    },
    {
      "cell_type": "code",
      "execution_count": null,
      "metadata": {
        "colab": {
          "base_uri": "https://localhost:8080/",
          "height": 270
        },
        "id": "51y8W4nla7rf",
        "outputId": "7d45a512-768b-48b4-ef9d-b70e576ff694"
      },
      "outputs": [
        {
          "data": {
            "text/html": [
              "\n",
              "  <div id=\"df-69c86548-c304-4063-958f-77e8d13d7812\">\n",
              "    <div class=\"colab-df-container\">\n",
              "      <div>\n",
              "<style scoped>\n",
              "    .dataframe tbody tr th:only-of-type {\n",
              "        vertical-align: middle;\n",
              "    }\n",
              "\n",
              "    .dataframe tbody tr th {\n",
              "        vertical-align: top;\n",
              "    }\n",
              "\n",
              "    .dataframe thead th {\n",
              "        text-align: right;\n",
              "    }\n",
              "</style>\n",
              "<table border=\"1\" class=\"dataframe\">\n",
              "  <thead>\n",
              "    <tr style=\"text-align: right;\">\n",
              "      <th></th>\n",
              "      <th>building_id</th>\n",
              "      <th>square_feet</th>\n",
              "      <th>primary_use</th>\n",
              "      <th>meter</th>\n",
              "      <th>air_temperature</th>\n",
              "      <th>day_of_year</th>\n",
              "      <th>hour</th>\n",
              "      <th>isDayTime</th>\n",
              "      <th>day_of_week</th>\n",
              "    </tr>\n",
              "  </thead>\n",
              "  <tbody>\n",
              "    <tr>\n",
              "      <th>0</th>\n",
              "      <td>0</td>\n",
              "      <td>8.914062</td>\n",
              "      <td>0</td>\n",
              "      <td>0</td>\n",
              "      <td>17.796875</td>\n",
              "      <td>1.0</td>\n",
              "      <td>0.0</td>\n",
              "      <td>0</td>\n",
              "      <td>6.0</td>\n",
              "    </tr>\n",
              "    <tr>\n",
              "      <th>1</th>\n",
              "      <td>1</td>\n",
              "      <td>7.910156</td>\n",
              "      <td>0</td>\n",
              "      <td>0</td>\n",
              "      <td>17.796875</td>\n",
              "      <td>1.0</td>\n",
              "      <td>0.0</td>\n",
              "      <td>0</td>\n",
              "      <td>6.0</td>\n",
              "    </tr>\n",
              "    <tr>\n",
              "      <th>2</th>\n",
              "      <td>2</td>\n",
              "      <td>8.593750</td>\n",
              "      <td>0</td>\n",
              "      <td>0</td>\n",
              "      <td>17.796875</td>\n",
              "      <td>1.0</td>\n",
              "      <td>0.0</td>\n",
              "      <td>0</td>\n",
              "      <td>6.0</td>\n",
              "    </tr>\n",
              "    <tr>\n",
              "      <th>3</th>\n",
              "      <td>3</td>\n",
              "      <td>10.070312</td>\n",
              "      <td>0</td>\n",
              "      <td>0</td>\n",
              "      <td>17.796875</td>\n",
              "      <td>1.0</td>\n",
              "      <td>0.0</td>\n",
              "      <td>0</td>\n",
              "      <td>6.0</td>\n",
              "    </tr>\n",
              "    <tr>\n",
              "      <th>4</th>\n",
              "      <td>4</td>\n",
              "      <td>11.664062</td>\n",
              "      <td>0</td>\n",
              "      <td>0</td>\n",
              "      <td>17.796875</td>\n",
              "      <td>1.0</td>\n",
              "      <td>0.0</td>\n",
              "      <td>0</td>\n",
              "      <td>6.0</td>\n",
              "    </tr>\n",
              "  </tbody>\n",
              "</table>\n",
              "</div>\n",
              "      <button class=\"colab-df-convert\" onclick=\"convertToInteractive('df-69c86548-c304-4063-958f-77e8d13d7812')\"\n",
              "              title=\"Convert this dataframe to an interactive table.\"\n",
              "              style=\"display:none;\">\n",
              "        \n",
              "  <svg xmlns=\"http://www.w3.org/2000/svg\" height=\"24px\"viewBox=\"0 0 24 24\"\n",
              "       width=\"24px\">\n",
              "    <path d=\"M0 0h24v24H0V0z\" fill=\"none\"/>\n",
              "    <path d=\"M18.56 5.44l.94 2.06.94-2.06 2.06-.94-2.06-.94-.94-2.06-.94 2.06-2.06.94zm-11 1L8.5 8.5l.94-2.06 2.06-.94-2.06-.94L8.5 2.5l-.94 2.06-2.06.94zm10 10l.94 2.06.94-2.06 2.06-.94-2.06-.94-.94-2.06-.94 2.06-2.06.94z\"/><path d=\"M17.41 7.96l-1.37-1.37c-.4-.4-.92-.59-1.43-.59-.52 0-1.04.2-1.43.59L10.3 9.45l-7.72 7.72c-.78.78-.78 2.05 0 2.83L4 21.41c.39.39.9.59 1.41.59.51 0 1.02-.2 1.41-.59l7.78-7.78 2.81-2.81c.8-.78.8-2.07 0-2.86zM5.41 20L4 18.59l7.72-7.72 1.47 1.35L5.41 20z\"/>\n",
              "  </svg>\n",
              "      </button>\n",
              "      \n",
              "  <style>\n",
              "    .colab-df-container {\n",
              "      display:flex;\n",
              "      flex-wrap:wrap;\n",
              "      gap: 12px;\n",
              "    }\n",
              "\n",
              "    .colab-df-convert {\n",
              "      background-color: #E8F0FE;\n",
              "      border: none;\n",
              "      border-radius: 50%;\n",
              "      cursor: pointer;\n",
              "      display: none;\n",
              "      fill: #1967D2;\n",
              "      height: 32px;\n",
              "      padding: 0 0 0 0;\n",
              "      width: 32px;\n",
              "    }\n",
              "\n",
              "    .colab-df-convert:hover {\n",
              "      background-color: #E2EBFA;\n",
              "      box-shadow: 0px 1px 2px rgba(60, 64, 67, 0.3), 0px 1px 3px 1px rgba(60, 64, 67, 0.15);\n",
              "      fill: #174EA6;\n",
              "    }\n",
              "\n",
              "    [theme=dark] .colab-df-convert {\n",
              "      background-color: #3B4455;\n",
              "      fill: #D2E3FC;\n",
              "    }\n",
              "\n",
              "    [theme=dark] .colab-df-convert:hover {\n",
              "      background-color: #434B5C;\n",
              "      box-shadow: 0px 1px 3px 1px rgba(0, 0, 0, 0.15);\n",
              "      filter: drop-shadow(0px 1px 2px rgba(0, 0, 0, 0.3));\n",
              "      fill: #FFFFFF;\n",
              "    }\n",
              "  </style>\n",
              "\n",
              "      <script>\n",
              "        const buttonEl =\n",
              "          document.querySelector('#df-69c86548-c304-4063-958f-77e8d13d7812 button.colab-df-convert');\n",
              "        buttonEl.style.display =\n",
              "          google.colab.kernel.accessAllowed ? 'block' : 'none';\n",
              "\n",
              "        async function convertToInteractive(key) {\n",
              "          const element = document.querySelector('#df-69c86548-c304-4063-958f-77e8d13d7812');\n",
              "          const dataTable =\n",
              "            await google.colab.kernel.invokeFunction('convertToInteractive',\n",
              "                                                     [key], {});\n",
              "          if (!dataTable) return;\n",
              "\n",
              "          const docLinkHtml = 'Like what you see? Visit the ' +\n",
              "            '<a target=\"_blank\" href=https://colab.research.google.com/notebooks/data_table.ipynb>data table notebook</a>'\n",
              "            + ' to learn more about interactive tables.';\n",
              "          element.innerHTML = '';\n",
              "          dataTable['output_type'] = 'display_data';\n",
              "          await google.colab.output.renderOutput(dataTable, element);\n",
              "          const docLink = document.createElement('div');\n",
              "          docLink.innerHTML = docLinkHtml;\n",
              "          element.appendChild(docLink);\n",
              "        }\n",
              "      </script>\n",
              "    </div>\n",
              "  </div>\n",
              "  "
            ],
            "text/plain": [
              "   building_id  square_feet  primary_use  meter  air_temperature  day_of_year  \\\n",
              "0            0     8.914062            0      0        17.796875          1.0   \n",
              "1            1     7.910156            0      0        17.796875          1.0   \n",
              "2            2     8.593750            0      0        17.796875          1.0   \n",
              "3            3    10.070312            0      0        17.796875          1.0   \n",
              "4            4    11.664062            0      0        17.796875          1.0   \n",
              "\n",
              "   hour  isDayTime  day_of_week  \n",
              "0   0.0          0          6.0  \n",
              "1   0.0          0          6.0  \n",
              "2   0.0          0          6.0  \n",
              "3   0.0          0          6.0  \n",
              "4   0.0          0          6.0  "
            ]
          },
          "execution_count": 10,
          "metadata": {},
          "output_type": "execute_result"
        }
      ],
      "source": [
        "# Inspect test_data\n",
        "test_data.head()"
      ]
    },
    {
      "cell_type": "code",
      "execution_count": null,
      "metadata": {
        "colab": {
          "base_uri": "https://localhost:8080/",
          "height": 53
        },
        "id": "iyt_1Xg7cg1X",
        "outputId": "5c144df6-63db-4863-c650-556e8f60ce9a"
      },
      "outputs": [
        {
          "data": {
            "application/vnd.google.colaboratory.intrinsic+json": {
              "type": "string"
            },
            "text/plain": [
              "'\\n--------------------------------------------------------------------------------\\nIMPLEMENTATION\\n'"
            ]
          },
          "execution_count": 11,
          "metadata": {},
          "output_type": "execute_result"
        }
      ],
      "source": [
        "'''\n",
        "--------------------------------------------------------------------------------\n",
        "IMPLEMENTATION\n",
        "'''"
      ]
    },
    {
      "cell_type": "code",
      "execution_count": null,
      "metadata": {
        "id": "KVLutpqjcuoo"
      },
      "outputs": [],
      "source": [
        "# Get X_train and y_train\n",
        "X_train = train_data.drop('meter_reading', axis = 1)\n",
        "y_train = train_data['meter_reading'].values"
      ]
    },
    {
      "cell_type": "code",
      "execution_count": null,
      "metadata": {
        "id": "kg6RBUbBdfkb"
      },
      "outputs": [],
      "source": [
        " # Split data for test and train\n",
        "train_x, test_x, train_y, test_y = train_test_split(X_train, y_train, test_size = 0.2, random_state = 42)"
      ]
    },
    {
      "cell_type": "code",
      "execution_count": null,
      "metadata": {
        "id": "kBX5P0Phedaw"
      },
      "outputs": [],
      "source": [
        "# Define RMSLE specifically for neural network\n",
        "from keras import backend as k\n",
        "def NN_RMSLE(y_act, y_pred):\n",
        "  return k.sqrt(k.mean(k.square(y_pred - y_act)))"
      ]
    },
    {
      "cell_type": "code",
      "execution_count": null,
      "metadata": {
        "id": "vV-tpC9pfegY"
      },
      "outputs": [],
      "source": [
        "# Split into train and validation sets\n",
        "train_xx, val_xx, train_yy, val_yy = train_test_split(train_x, train_y, test_size = 0.2, random_state = 42)"
      ]
    },
    {
      "cell_type": "code",
      "execution_count": null,
      "metadata": {
        "colab": {
          "base_uri": "https://localhost:8080/"
        },
        "id": "RYmbYNuvfonA",
        "outputId": "dc384576-85d5-4aae-fed6-e6a5d82d7b04"
      },
      "outputs": [
        {
          "name": "stdout",
          "output_type": "stream",
          "text": [
            "Epoch 1/50\n",
            "5732/5732 [==============================] - 46s 8ms/step - loss: 1.5143 - val_loss: 1.3778\n",
            "Epoch 2/50\n",
            "5732/5732 [==============================] - 43s 7ms/step - loss: 1.3611 - val_loss: 1.2921\n",
            "Epoch 3/50\n",
            "5732/5732 [==============================] - 43s 7ms/step - loss: 1.2961 - val_loss: 1.3638\n",
            "Epoch 4/50\n",
            "5732/5732 [==============================] - 46s 8ms/step - loss: 1.2632 - val_loss: 1.2597\n",
            "Epoch 5/50\n",
            "5732/5732 [==============================] - 49s 9ms/step - loss: 1.2376 - val_loss: 1.1630\n",
            "Epoch 6/50\n",
            "5732/5732 [==============================] - 48s 8ms/step - loss: 1.2197 - val_loss: 1.2157\n",
            "Epoch 7/50\n",
            "5732/5732 [==============================] - 48s 8ms/step - loss: 1.2034 - val_loss: 1.1950\n",
            "Epoch 8/50\n",
            "5732/5732 [==============================] - 46s 8ms/step - loss: 1.1916 - val_loss: 1.2766\n",
            "Epoch 9/50\n",
            "5732/5732 [==============================] - 43s 7ms/step - loss: 1.1796 - val_loss: 1.1338\n",
            "Epoch 10/50\n",
            "5732/5732 [==============================] - 46s 8ms/step - loss: 1.1689 - val_loss: 1.1237\n",
            "Epoch 11/50\n",
            "5732/5732 [==============================] - 47s 8ms/step - loss: 1.1593 - val_loss: 1.1526\n",
            "Epoch 12/50\n",
            "5732/5732 [==============================] - 46s 8ms/step - loss: 1.1524 - val_loss: 1.1297\n",
            "Epoch 13/50\n",
            "5732/5732 [==============================] - 45s 8ms/step - loss: 1.1470 - val_loss: 1.1579\n",
            "Epoch 14/50\n",
            "5732/5732 [==============================] - 45s 8ms/step - loss: 1.1427 - val_loss: 1.2070\n",
            "Epoch 15/50\n",
            "5732/5732 [==============================] - 46s 8ms/step - loss: 1.1394 - val_loss: 1.1245\n",
            "Epoch 16/50\n",
            "5732/5732 [==============================] - 47s 8ms/step - loss: 1.1348 - val_loss: 1.1386\n",
            "Epoch 17/50\n",
            "5732/5732 [==============================] - 48s 8ms/step - loss: 1.1322 - val_loss: 1.1275\n",
            "Epoch 18/50\n",
            "5732/5732 [==============================] - 48s 8ms/step - loss: 1.1288 - val_loss: 1.1119\n",
            "Epoch 19/50\n",
            "5732/5732 [==============================] - 48s 8ms/step - loss: 1.1260 - val_loss: 1.1630\n",
            "Epoch 20/50\n",
            "5732/5732 [==============================] - 43s 7ms/step - loss: 1.1240 - val_loss: 1.1138\n",
            "Epoch 21/50\n",
            "5732/5732 [==============================] - 46s 8ms/step - loss: 1.1217 - val_loss: 1.1297\n",
            "Epoch 22/50\n",
            "5732/5732 [==============================] - 43s 8ms/step - loss: 1.1190 - val_loss: 1.1060\n",
            "Epoch 23/50\n",
            "5732/5732 [==============================] - 44s 8ms/step - loss: 1.1170 - val_loss: 1.1076\n",
            "Epoch 24/50\n",
            "5732/5732 [==============================] - 43s 7ms/step - loss: 1.1149 - val_loss: 1.1014\n",
            "Epoch 25/50\n",
            "5732/5732 [==============================] - 44s 8ms/step - loss: 1.1134 - val_loss: 1.1048\n",
            "Epoch 26/50\n",
            "5732/5732 [==============================] - 50s 9ms/step - loss: 1.1118 - val_loss: 1.1219\n",
            "Epoch 27/50\n",
            "5732/5732 [==============================] - 49s 9ms/step - loss: 1.1100 - val_loss: 1.1029\n",
            "Epoch 28/50\n",
            "5732/5732 [==============================] - 50s 9ms/step - loss: 1.1080 - val_loss: 1.1242\n",
            "Epoch 29/50\n",
            "5732/5732 [==============================] - 49s 9ms/step - loss: 1.1077 - val_loss: 1.1277\n",
            "Epoch 30/50\n",
            "5732/5732 [==============================] - 50s 9ms/step - loss: 1.1064 - val_loss: 1.1408\n",
            "Epoch 31/50\n",
            "5732/5732 [==============================] - 49s 9ms/step - loss: 1.1054 - val_loss: 1.0955\n",
            "Epoch 32/50\n",
            "5732/5732 [==============================] - 47s 8ms/step - loss: 1.1041 - val_loss: 1.1107\n",
            "Epoch 33/50\n",
            "5732/5732 [==============================] - 47s 8ms/step - loss: 1.1028 - val_loss: 1.1080\n",
            "Epoch 34/50\n",
            "5732/5732 [==============================] - 46s 8ms/step - loss: 1.1021 - val_loss: 1.0943\n",
            "Epoch 35/50\n",
            "5732/5732 [==============================] - 47s 8ms/step - loss: 1.1010 - val_loss: 1.1055\n",
            "Epoch 36/50\n",
            "5732/5732 [==============================] - 48s 8ms/step - loss: 1.1007 - val_loss: 1.1126\n",
            "Epoch 37/50\n",
            "5732/5732 [==============================] - 49s 8ms/step - loss: 1.0996 - val_loss: 1.0915\n",
            "Epoch 38/50\n",
            "5732/5732 [==============================] - 46s 8ms/step - loss: 1.0993 - val_loss: 1.1029\n",
            "Epoch 39/50\n",
            "5732/5732 [==============================] - 48s 8ms/step - loss: 1.0982 - val_loss: 1.0888\n",
            "Epoch 40/50\n",
            "5732/5732 [==============================] - 46s 8ms/step - loss: 1.0967 - val_loss: 1.0983\n",
            "Epoch 41/50\n",
            "5732/5732 [==============================] - 50s 9ms/step - loss: 1.0962 - val_loss: 1.1114\n",
            "Epoch 42/50\n",
            "5732/5732 [==============================] - 50s 9ms/step - loss: 1.0952 - val_loss: 1.0943\n",
            "Epoch 43/50\n",
            "5732/5732 [==============================] - 49s 9ms/step - loss: 1.0940 - val_loss: 1.0857\n",
            "Epoch 44/50\n",
            "5732/5732 [==============================] - 50s 9ms/step - loss: 1.0937 - val_loss: 1.0981\n",
            "Epoch 45/50\n",
            "5732/5732 [==============================] - 48s 8ms/step - loss: 1.0933 - val_loss: 1.0933\n",
            "Epoch 46/50\n",
            "5732/5732 [==============================] - 49s 9ms/step - loss: 1.0922 - val_loss: 1.0868\n",
            "Epoch 47/50\n",
            "5732/5732 [==============================] - 47s 8ms/step - loss: 1.0920 - val_loss: 1.1044\n",
            "Epoch 48/50\n",
            "5732/5732 [==============================] - 46s 8ms/step - loss: 1.0917 - val_loss: 1.0832\n",
            "Epoch 49/50\n",
            "5732/5732 [==============================] - 48s 8ms/step - loss: 1.0907 - val_loss: 1.0813\n",
            "Epoch 50/50\n",
            "5732/5732 [==============================] - 46s 8ms/step - loss: 1.0905 - val_loss: 1.0819\n"
          ]
        },
        {
          "data": {
            "text/plain": [
              "<keras.callbacks.History at 0x7fbde515b150>"
            ]
          },
          "execution_count": 24,
          "metadata": {},
          "output_type": "execute_result"
        }
      ],
      "source": [
        "# Define model\n",
        "from keras.models import Sequential\n",
        "from keras import layers\n",
        "from keras.layers import Dense\n",
        "from keras.layers import LSTM\n",
        "from keras.layers import Dropout\n",
        "\n",
        "model = Sequential()\n",
        "\n",
        "# Add layers, etc\n",
        "model.add(layers.Dense(512, activation = 'relu', input_shape = (train_xx.shape[1], )))\n",
        "model.add(Dense(1, activation = 'linear'))\n",
        "model.compile(optimizer = 'adam', loss = NN_RMSLE)\n",
        "\n",
        "# Fit model\n",
        "model.fit(train_xx, train_yy, epochs = 50, batch_size = 2048, validation_data = (val_xx, val_yy))"
      ]
    },
    {
      "cell_type": "code",
      "execution_count": null,
      "metadata": {
        "colab": {
          "base_uri": "https://localhost:8080/"
        },
        "id": "o3q_W6-nijuh",
        "outputId": "5125cf72-6cb7-450b-e12c-5e30eb94c9cc"
      },
      "outputs": [
        {
          "name": "stdout",
          "output_type": "stream",
          "text": [
            "Neural Network Training RMSLE: 1.0582715272903442\n",
            "Neural Network Testing RMSLE: 1.0591145753860474\n"
          ]
        }
      ],
      "source": [
        "print('Neural Network Training RMSLE: {}'.format(model.evaluate(train_x, train_y, verbose = 0)))\n",
        "print('Neural Network Testing RMSLE: {}'.format(model.evaluate(test_x, test_y, verbose = 0)))"
      ]
    },
    {
      "cell_type": "code",
      "execution_count": null,
      "metadata": {
        "id": "spax8bwjlTFp"
      },
      "outputs": [],
      "source": [
        "# Use model to make a prediction \n",
        "prediction = model.predict(test_data)"
      ]
    },
    {
      "cell_type": "code",
      "execution_count": 1,
      "metadata": {
        "id": "ihbXW9nXqMgL",
        "colab": {
          "base_uri": "https://localhost:8080/",
          "height": 169
        },
        "outputId": "577d2651-5a81-4d78-e495-45b8e0328761"
      },
      "outputs": [
        {
          "output_type": "error",
          "ename": "NameError",
          "evalue": "ignored",
          "traceback": [
            "\u001b[0;31m---------------------------------------------------------------------------\u001b[0m",
            "\u001b[0;31mNameError\u001b[0m                                 Traceback (most recent call last)",
            "\u001b[0;32m<ipython-input-1-c3d8c93f720f>\u001b[0m in \u001b[0;36m<module>\u001b[0;34m()\u001b[0m\n\u001b[0;32m----> 1\u001b[0;31m \u001b[0mprediction\u001b[0m\u001b[0;34m\u001b[0m\u001b[0;34m\u001b[0m\u001b[0m\n\u001b[0m",
            "\u001b[0;31mNameError\u001b[0m: name 'prediction' is not defined"
          ]
        }
      ],
      "source": [
        "# Show prediction\n",
        "prediction"
      ]
    },
    {
      "cell_type": "code",
      "execution_count": null,
      "metadata": {
        "colab": {
          "base_uri": "https://localhost:8080/"
        },
        "id": "m8f8TRtMqUny",
        "outputId": "8d2bc786-d669-4acb-c350-7d5c6d0bd78c"
      },
      "outputs": [
        {
          "output_type": "execute_result",
          "data": {
            "text/plain": [
              "41697600"
            ]
          },
          "metadata": {},
          "execution_count": 29
        }
      ],
      "source": [
        "# Inspect and flatten prediction\n",
        "prediction_flat = prediction.flatten()\n",
        "len(prediction_flat)"
      ]
    },
    {
      "cell_type": "code",
      "execution_count": null,
      "metadata": {
        "id": "zwg_uhztF_K7"
      },
      "outputs": [],
      "source": [
        "# Create row_id column for Kaggle submission\n",
        "row_id = (np.arange(0, len(prediction_flat))).astype(np.int32)"
      ]
    },
    {
      "cell_type": "code",
      "execution_count": null,
      "metadata": {
        "id": "VZdDHknCO4fO"
      },
      "outputs": [],
      "source": [
        "# Verify row_id is the required ~ 41 million entries\n",
        "len(row_id)"
      ]
    },
    {
      "cell_type": "code",
      "execution_count": null,
      "metadata": {
        "id": "8aFk98BjGNS8"
      },
      "outputs": [],
      "source": [
        "#df = pd.DataFrame({'row_id':row_id, 'meter_reading':prediction_flat})"
      ]
    },
    {
      "cell_type": "code",
      "execution_count": null,
      "metadata": {
        "id": "uY5XBppYGc38"
      },
      "outputs": [],
      "source": [
        "#df.to_csv('/content/drive/My Drive/RNN_prediction.csv', index = False)"
      ]
    },
    {
      "cell_type": "code",
      "execution_count": null,
      "metadata": {
        "id": "Oir_LHGPKk2I"
      },
      "outputs": [],
      "source": [
        "#df.head()"
      ]
    },
    {
      "cell_type": "code",
      "execution_count": null,
      "metadata": {
        "id": "f8pP7Rf_MGuG"
      },
      "outputs": [],
      "source": [
        "# Construct dataframe\n",
        "df_2 = pd.DataFrame({'row_id': row_id, 'meter_reading':np.expm1(prediction_flat)})"
      ]
    },
    {
      "cell_type": "code",
      "execution_count": null,
      "metadata": {
        "id": "F-I09H1CMgyt"
      },
      "outputs": [],
      "source": [
        "# Save as csv\n",
        "df_2.to_csv('/content/drive/My Drive/RNN_prediction_expm1.csv', index = False)"
      ]
    }
  ],
  "metadata": {
    "colab": {
      "name": "ML_Final.ipynb",
      "provenance": []
    },
    "kernelspec": {
      "display_name": "Python 3",
      "name": "python3"
    },
    "language_info": {
      "name": "python"
    }
  },
  "nbformat": 4,
  "nbformat_minor": 0
}